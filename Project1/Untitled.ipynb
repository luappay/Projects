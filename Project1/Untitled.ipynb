{
 "cells": [
  {
   "cell_type": "code",
   "execution_count": null,
   "metadata": {},
   "outputs": [],
   "source": [
    "from timeit import default_timer as timer\n",
    "import datetime\n",
    "\n",
    "def loopspeed():\n",
    "    start = timer()\n",
    "\n",
    "    for playid in players:\n",
    "        for location in gym_location:\n",
    "            if location in players[playid]['gyms_visited']:       \n",
    "                print('{name} has visited {gym}'.format(name=players[playid]['player_name'],gym=location))\n",
    "\n",
    "    elapsed_time = timer() - start\n",
    "    return elapsed_time\n",
    "\n",
    "def listspeed():\n",
    "    start = timer()\n",
    "\n",
    "    [[print('{name} has visited {gym}'.format(name=players[key]['player_name'],gym=location)) for location in gym_location if location in players[key]['gyms_visited']] for key in players]\n",
    "\n",
    "    elapsed_time = timer() - start\n",
    "    return elapsed_time\n",
    "\n",
    "\n",
    "def compare(iterations):\n",
    "    loopspeeds = 0 \n",
    "    listspeeds = 0\n",
    "#    start = datetime.datetime.now()\n",
    "    counter = 0 \n",
    "    while counter < iterations: \n",
    "        loopspeeds += loopspeed()\n",
    "        listspeeds += listspeed()\n",
    "        counter += 1\n",
    "\n",
    "        \n",
    "    print('Run speed: \\n loopspeed:{loopspeed} \\n listspeed:{listspeed}'.format(loopspeed=loopspeeds, listspeed=listspeeds))\n",
    "\n",
    "compare(10)    "
   ]
  },
  {
   "cell_type": "code",
   "execution_count": null,
   "metadata": {},
   "outputs": [],
   "source": [
    "import time\n",
    "from timeit import default_timer as timer\n",
    "\n",
    "start = timer()\n",
    "\n",
    "[[print('{name} has visited {gym}'.format(name=players[key]['player_name'],gym=location)) for location in gym_location if location in players[key]['gyms_visited']] for key in players]\n",
    "\n",
    "elapsed_time = timer() - start\n",
    "\n",
    "print ('Time taken: {time} seconds'.format(time=(elapsed_time)))\n",
    "# [print() for location in gym_location if location in players[key]['gyms_visited']]"
   ]
  }
 ],
 "metadata": {
  "kernelspec": {
   "display_name": "Python 3",
   "language": "python",
   "name": "python3"
  },
  "language_info": {
   "codemirror_mode": {
    "name": "ipython",
    "version": 3
   },
   "file_extension": ".py",
   "mimetype": "text/x-python",
   "name": "python",
   "nbconvert_exporter": "python",
   "pygments_lexer": "ipython3",
   "version": "3.6.7"
  }
 },
 "nbformat": 4,
 "nbformat_minor": 2
}
