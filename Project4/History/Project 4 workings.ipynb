{
 "cells": [
  {
   "cell_type": "code",
   "execution_count": 3,
   "metadata": {},
   "outputs": [],
   "source": [
    "import numpy as np\n",
    "import scipy.stats as stats\n",
    "import seaborn as sns\n",
    "import matplotlib.pyplot as plt\n",
    "import pandas as pd\n",
    "from IPython.display import HTML\n",
    "import pprint\n",
    "from sklearn.model_selection import train_test_split, KFold, cross_val_score, cross_val_predict\n",
    "from sklearn.linear_model import Lasso, ElasticNet, Ridge, LassoCV, ElasticNetCV, RidgeCV, LinearRegression, LogisticRegression, LogisticRegressionCV\n",
    "from sklearn.preprocessing import StandardScaler\n",
    "import statsmodels.formula.api as sm\n",
    "from sklearn.model_selection import GridSearchCV\n",
    "from sklearn.ensemble import RandomForestClassifier, BaggingClassifier\n",
    "from sklearn.neighbors import KNeighborsClassifier, KNeighborsRegressor\n",
    "from sklearn.metrics import confusion_matrix, classification_report, roc_curve, auc\n",
    "from sklearn.tree import DecisionTreeRegressor, DecisionTreeClassifier\n",
    "from sklearn import svm\n",
    "from sklearn.decomposition import PCA\n",
    "from sklearn import cluster\n",
    "from sklearn import metrics\n",
    "from sklearn.metrics import pairwise_distances\n",
    "from sklearn.cluster import KMeans\n",
    "from sklearn.metrics import silhouette_score\n",
    "from selenium import webdriver\n",
    "# import selenium\n",
    "import os\n",
    "import requests\n",
    "from bs4 import BeautifulSoup\n",
    "import json\n",
    "import time"
   ]
  },
  {
   "cell_type": "code",
   "execution_count": 4,
   "metadata": {},
   "outputs": [],
   "source": [
    "### Initiate driver for webscraping \n",
    "chromedriver = '.\\chromedriver'\n",
    "os.environ[\"webdriver.chrome.driver\"] = chromedriver\n"
   ]
  },
  {
   "cell_type": "code",
   "execution_count": 5,
   "metadata": {},
   "outputs": [],
   "source": [
    "### Create/initiate browser\n",
    "browser = webdriver.Chrome(executable_path='./chromedriver/chromedriver.exe')\n",
    "\n",
    "### Setup url to enter to\n",
    "url = 'https://www.mycareersfuture.sg/'\n",
    "\n",
    "### Enter page\n",
    "browser.get(url)\n",
    "\n",
    "def grab_links(query_list = None):\n",
    "    \n",
    "    links = []\n",
    "    \n",
    "    if query_list == None:\n",
    "        queries = ['data']\n",
    "    else:\n",
    "        queries = query_list\n",
    "        \n",
    "    for query in queries:\n",
    "        \n",
    "        ### Enter search bar\n",
    "        search_bar = browser.find_element_by_id('search-text')\n",
    "        search_bar.clear()\n",
    "        search_bar.send_keys(query)\n",
    "        main_url = browser.current_url[:-1]\n",
    "        next_page = True\n",
    "        page_num = 0\n",
    "        \n",
    "        while next_page:\n",
    "            url = main_url + str(page_num)\n",
    "            browser.get(url)\n",
    "            html = browser.page_source\n",
    "            bs = BeautifulSoup(html)\n",
    "            \n",
    "            for link in bs.findAll(\"a\", {'class' : 'bg-white mb3 w-100 dib v-top pa3 no-underline flex-ns flex-wrap JobCard__card___22xP3'}):\n",
    "                links += [link]\n",
    "            \n",
    "            count += 1\n",
    "            time.sleep(np.random.randint(5,10))\n",
    "\n"
   ]
  },
  {
   "cell_type": "code",
   "execution_count": 4,
   "metadata": {},
   "outputs": [],
   "source": [
    "html = browser.page_source"
   ]
  },
  {
   "cell_type": "code",
   "execution_count": 5,
   "metadata": {},
   "outputs": [
    {
     "data": {
      "text/plain": [
       "'https://www.mycareersfuture.sg/job/senior-software-engineer-developer-geenet-abb0ca0d0b11646dbe9e14c0289b2d3'"
      ]
     },
     "execution_count": 5,
     "metadata": {},
     "output_type": "execute_result"
    }
   ],
   "source": [
    "bs = BeautifulSoup(html)\n",
    "url = browser.current_url\n",
    "url[:-1]"
   ]
  },
  {
   "cell_type": "code",
   "execution_count": 6,
   "metadata": {
    "scrolled": true
   },
   "outputs": [
    {
     "name": "stdout",
     "output_type": "stream",
     "text": [
      "About the CompanyGeenet was started in 2014 from a simple idea of connecting foreign residents working and living in Singapore to their loved ones back home. With an initial starting base of 500 foreign workers in Singapore, Geenet introduced wireless internet services enabling them to connect back home economically and efficiently. \n",
      "?Today, Geenet's Managed Wifi Service caters to 10,000s of foreign residents providing them access to video streaming services, video calls to their loved ones and friends back home, and an avenue to connect to the world. \n",
      "As a startup, we are constantly working hard to acquire knowledge, test new technologies and improve all aspects of our service to customers. As an IMDA Licensed Services-Based Operator, we adhere to local regulations and compliance to provide a broad spectrum of wifi solutions to different organisational sizes and environments. We have also built a dedicated cloud based CRM sales system and consumer sales team just for high density environments. \n",
      "Having gained specific and extensive and efficiencies in high density deployments, this has enabled us to implement new projects rapidly and cost effectively. Our consumer sales, customer service and network operations teams manage thousands of customers and wifi access points at any point of time. \n",
      "\n",
      "\n",
      "Network focus and operational expertise; proven track record designing, building and operating wireless networks in high-density venues.\n",
      "\n",
      "\n",
      "Neutral-host criteria supports all wireless standards and protocols depending on requirements\n",
      "\n",
      "\n",
      "Strategic partnerships with Tier 1 local ISPs for enterprise WiFi support and solutions\n",
      "\n",
      "\n",
      "50% of full-time staff dedicated to development, technology and Managed WiFi services\n",
      "\n",
      "\n",
      "Invest in R&D and new technologies to ensure networks are designed to meet data demands of the future.\n",
      "\n",
      "\n",
      "Read MoreMore jobs from this company\n",
      "About the CompanyGeenet was started in 2014 from a simple idea of connecting foreign residents working and living in Singapore to their loved ones back home. With an initial starting base of 500 foreign workers in Singapore, Geenet introduced wireless internet services enabling them to connect back home economically and efficiently. \n",
      "?Today, Geenet's Managed Wifi Service caters to 10,000s of foreign residents providing them access to video streaming services, video calls to their loved ones and friends back home, and an avenue to connect to the world. \n",
      "As a startup, we are constantly working hard to acquire knowledge, test new technologies and improve all aspects of our service to customers. As an IMDA Licensed Services-Based Operator, we adhere to local regulations and compliance to provide a broad spectrum of wifi solutions to different organisational sizes and environments. We have also built a dedicated cloud based CRM sales system and consumer sales team just for high density environments. \n",
      "Having gained specific and extensive and efficiencies in high density deployments, this has enabled us to implement new projects rapidly and cost effectively. Our consumer sales, customer service and network operations teams manage thousands of customers and wifi access points at any point of time. \n",
      "\n",
      "\n",
      "Network focus and operational expertise; proven track record designing, building and operating wireless networks in high-density venues.\n",
      "\n",
      "\n",
      "Neutral-host criteria supports all wireless standards and protocols depending on requirements\n",
      "\n",
      "\n",
      "Strategic partnerships with Tier 1 local ISPs for enterprise WiFi support and solutions\n",
      "\n",
      "\n",
      "50% of full-time staff dedicated to development, technology and Managed WiFi services\n",
      "\n",
      "\n",
      "Invest in R&D and new technologies to ensure networks are designed to meet data demands of the future.\n",
      "\n",
      "\n",
      "Read MoreMore jobs from this company\n"
     ]
    }
   ],
   "source": [
    "for text in bs.findAll('div', {'class':'bg-white pa4 mt4'}):\n",
    "    print (text.text)"
   ]
  },
  {
   "cell_type": "code",
   "execution_count": 7,
   "metadata": {},
   "outputs": [
    {
     "data": {
      "text/plain": [
       "\"About the Company\\nGeenet was started in 2014 from a simple idea of connecting foreign residents working and living in Singapore to their loved ones back home. With an initial starting base of 500 foreign workers in Singapore, Geenet introduced wireless internet services enabling them to connect back home economically and efficiently. \\n?Today, Geenet's Managed Wifi Service caters to 10,000s of foreign residents providing them access to video streaming services, video calls to their loved ones and friends back home, and an avenue to connect to the world. \\nAs a startup, we are constantly working hard to acquire knowledge, test new technologies and improve all aspects of our service to customers. As an IMDA Licensed Services-Based Operator, we adhere to local regulations and compliance to provide a broad spectrum of wifi solutions to different organisational sizes and environments. We have also built a dedicated cloud based CRM sales system and consumer sales team just for high density environments. \\nHaving gained specific and extensive and efficiencies in high density deployments, this has enabled us to implement new projects rapidly and cost effectively. Our consumer sales, customer service and network operations teams manage thousands of customers and wifi access points at any point of time. \\nNetwork focus and operational expertise; proven track record designing, building and operating wireless networks in high-density venues.\\nNeutral-host criteria supports all wireless standards and protocols depending on requirements\\nStrategic partnerships with Tier 1 local ISPs for enterprise WiFi support and solutions\\n50% of full-time staff dedicated to development, technology and Managed WiFi services\\nInvest in R&D and new technologies to ensure networks are designed to meet data demands of the future.\\nMore jobs from this company\""
      ]
     },
     "execution_count": 7,
     "metadata": {},
     "output_type": "execute_result"
    }
   ],
   "source": [
    "### About the company\n",
    "browser.find_element_by_xpath('//*[@id=\"job_details\"]/div[2]/div[1]/div/div/section/section/div[2]/div').text"
   ]
  },
  {
   "cell_type": "code",
   "execution_count": 8,
   "metadata": {},
   "outputs": [
    {
     "data": {
      "text/plain": [
       "'GEENET PTE. LTD.'"
      ]
     },
     "execution_count": 8,
     "metadata": {},
     "output_type": "execute_result"
    }
   ],
   "source": [
    "### Company Name\n",
    "browser.find_element_by_xpath('//*[@id=\"job_details\"]/div[1]/div[2]/div[1]/section[1]/p').text"
   ]
  },
  {
   "cell_type": "code",
   "execution_count": 9,
   "metadata": {},
   "outputs": [
    {
     "data": {
      "text/plain": [
       "'SENIOR SOFTWARE ENGINEER / DEVELOPER'"
      ]
     },
     "execution_count": 9,
     "metadata": {},
     "output_type": "execute_result"
    }
   ],
   "source": [
    "### Job Title\n",
    "browser.find_element_by_xpath('//*[@id=\"job_title\"]').text"
   ]
  },
  {
   "cell_type": "code",
   "execution_count": 10,
   "metadata": {},
   "outputs": [
    {
     "data": {
      "text/plain": [
       "'Telecommunications'"
      ]
     },
     "execution_count": 10,
     "metadata": {},
     "output_type": "execute_result"
    }
   ],
   "source": [
    "### Industry\n",
    "browser.find_element_by_xpath('//*[@id=\"job-categories\"]').text"
   ]
  },
  {
   "cell_type": "code",
   "execution_count": 11,
   "metadata": {},
   "outputs": [
    {
     "data": {
      "text/plain": [
       "'71 AYER RAJAH CRESCENT 139951'"
      ]
     },
     "execution_count": 11,
     "metadata": {},
     "output_type": "execute_result"
    }
   ],
   "source": [
    "### Address\n",
    "browser.find_element_by_xpath('//*[@id=\"address\"]/a').text"
   ]
  },
  {
   "cell_type": "code",
   "execution_count": 12,
   "metadata": {},
   "outputs": [
    {
     "data": {
      "text/plain": [
       "'Permanent'"
      ]
     },
     "execution_count": 12,
     "metadata": {},
     "output_type": "execute_result"
    }
   ],
   "source": [
    "### Commitment\n",
    "browser.find_element_by_xpath('//*[@id=\"employment_type\"]').text"
   ]
  },
  {
   "cell_type": "code",
   "execution_count": 13,
   "metadata": {},
   "outputs": [
    {
     "data": {
      "text/plain": [
       "'Senior Executive'"
      ]
     },
     "execution_count": 13,
     "metadata": {},
     "output_type": "execute_result"
    }
   ],
   "source": [
    "### Seniority\n",
    "browser.find_element_by_xpath('//*[@id=\"seniority\"]').text"
   ]
  },
  {
   "cell_type": "code",
   "execution_count": 14,
   "metadata": {},
   "outputs": [
    {
     "data": {
      "text/plain": [
       "'$3,500to$6,500'"
      ]
     },
     "execution_count": 14,
     "metadata": {},
     "output_type": "execute_result"
    }
   ],
   "source": [
    "### Salary Range\n",
    "browser.find_element_by_xpath('//*[@id=\"job_details\"]/div[1]/div[2]/div[1]/div/section[2]/div/span[2]').text"
   ]
  },
  {
   "cell_type": "code",
   "execution_count": 15,
   "metadata": {},
   "outputs": [
    {
     "data": {
      "text/plain": [
       "'Closing on 27 Feb 2019'"
      ]
     },
     "execution_count": 15,
     "metadata": {},
     "output_type": "execute_result"
    }
   ],
   "source": [
    "### Application Closing\n",
    "browser.find_element_by_xpath('//*[@id=\"expiry_date\"]').text"
   ]
  },
  {
   "cell_type": "code",
   "execution_count": 16,
   "metadata": {},
   "outputs": [
    {
     "data": {
      "text/plain": [
       "'Posted 28 Jan 2019'"
      ]
     },
     "execution_count": 16,
     "metadata": {},
     "output_type": "execute_result"
    }
   ],
   "source": [
    "### Posting Data\n",
    "browser.find_element_by_xpath('//*[@id=\"last_posted_date\"]').text"
   ]
  },
  {
   "cell_type": "code",
   "execution_count": 17,
   "metadata": {},
   "outputs": [
    {
     "data": {
      "text/plain": [
       "'Roles & Responsibilities\\nWe are looking for a Senior Software Engineer/Developer to produce and implement functional software solutions. You will work with upper management to define software requirements and take the lead on operational and technical projects.\\nIn this role, you should be able to work independently with little supervision. You should have excellent hands-on experience in software development and problem-solving skills.\\nYour goal will be to develop high-quality software that is aligned with user needs and business goals.\\nResponsibilities:\\nDevelop high-quality software design and architecture\\nIdentify, prioritize and execute tasks in the software development life cycle\\nDevelop tools and application by producing clean, efficient code\\nAutomate tasks through appropriate tools and scripting\\nReview and debug code\\nPerform validation and verification testing\\nCollaborate with internal teams to fix and improve products\\nDocument development phases and monitor systems'"
      ]
     },
     "execution_count": 17,
     "metadata": {},
     "output_type": "execute_result"
    }
   ],
   "source": [
    "### Roles and Responsibilities\n",
    "browser.find_element_by_xpath('//*[@id=\"job_description\"]').text"
   ]
  },
  {
   "cell_type": "code",
   "execution_count": 18,
   "metadata": {},
   "outputs": [
    {
     "data": {
      "text/plain": [
       "'Requirements\\nDegree in Computer Science or a related degree.\\nProven experience as a Senior Software Engineer/Developer.\\nExtensive experience in software development and scripting for transactional system, radius system and backend application.\\nKnowledge and hand-on experience in programming languages Python, C++, PhP and Java/J2EE.\\nIn-depth knowledge of relational databases like PostgreSQL, MySQL and NoSQL databases like Mongo DB.\\nFamiliarity in various operating systems and open source system.\\nAnalytical mind with problem-solving skill.'"
      ]
     },
     "execution_count": 18,
     "metadata": {},
     "output_type": "execute_result"
    }
   ],
   "source": [
    "### Requirements\n",
    "browser.find_element_by_xpath('//*[@id=\"requirements\"]').text"
   ]
  },
  {
   "cell_type": "code",
   "execution_count": 19,
   "metadata": {},
   "outputs": [
    {
     "data": {
      "text/plain": [
       "'Government support available\\nCareer Support Programme\\nAre you currently in between jobs? The government provides wage subsidies to companies for hiring experienced individuals.\\nLearn more'"
      ]
     },
     "execution_count": 19,
     "metadata": {},
     "output_type": "execute_result"
    }
   ],
   "source": [
    "### Govt Support?\n",
    "browser.find_element_by_xpath('//*[@id=\"job_details\"]/div[1]/div[4]/section').text"
   ]
  },
  {
   "cell_type": "code",
   "execution_count": 20,
   "metadata": {},
   "outputs": [
    {
     "data": {
      "text/plain": [
       "'Monthly'"
      ]
     },
     "execution_count": 20,
     "metadata": {},
     "output_type": "execute_result"
    }
   ],
   "source": [
    "### Govt Support?\n",
    "browser.find_element_by_xpath('//*[@id=\"job_details\"]/div[1]/div[2]/div[1]/div/section[2]/div/span[3]').text"
   ]
  },
  {
   "cell_type": "code",
   "execution_count": 21,
   "metadata": {},
   "outputs": [
    {
     "data": {
      "text/plain": [
       "17.333333333333332"
      ]
     },
     "execution_count": 21,
     "metadata": {},
     "output_type": "execute_result"
    }
   ],
   "source": [
    "208*5/60"
   ]
  },
  {
   "cell_type": "code",
   "execution_count": 23,
   "metadata": {},
   "outputs": [
    {
     "data": {
      "text/plain": [
       "3600"
      ]
     },
     "execution_count": 23,
     "metadata": {},
     "output_type": "execute_result"
    }
   ],
   "source": [
    "180*20\n"
   ]
  },
  {
   "cell_type": "code",
   "execution_count": 296,
   "metadata": {},
   "outputs": [
    {
     "name": "stdout",
     "output_type": "stream",
     "text": [
      "/job/data-science-lead-consultant-u3-infotech-f4e5b50e258dd4338eb544f303554bf6\n",
      "/job/market-analyst-grabtaxi-holdings-962b6b110b66841082656a7f6fc8c7eb\n",
      "/job/data-scientist-mannhummel-ventures-9ffef96084b9ec6e133c6bee88026928\n",
      "/job/management-consultant-sia-partners-singapore-112a11addef68382ffad5d3ee5799ed9\n",
      "/job/director-product-management-perx-technologies-4fc39b169e0294359613d0835828574e\n",
      "/job/research-specialist-centre-research-rehabilitation-protection-rpg-ministry-social-family-development-507690456fdb1474c42caeec71fa9ade\n",
      "/job/senior-portfolio-planning-alignment-manager-johnson-johnson-21bfd6a8cb67dc9e7125940802589439\n",
      "/job/data-scientist-sensorflow-1e90b327703a5b42c6961ef23e2994f1\n",
      "/job/research-associat-nanyang-technological-university-ad08206598803824ebf0cf7780ecf07c\n",
      "/job/data-scientist-government-technology-agency-f4a85908b1dea9966cfa8c8d0202bc82\n",
      "/job/data-scientist-government-technology-agency-6ed5060f4b486e0148f169e6c3b9cc05\n",
      "/job/data-scientist-government-technology-agency-5f3459ef82a41bdfb8e62598c18e9c16\n",
      "/job/lead-data-scientist-bigtapp-2679aeb5e81108b7ee2c4c1b0dd23e5a\n",
      "/job/research-assistant-associate-national-university-singapore-1e4b65d73868c93d76a8689696eb10f9\n",
      "/job/research-assistant-national-university-singapore-0c8fc6abc24de73c51141ebf4ead1d47\n",
      "/job/data-scientist-dell-global-bv-0b01058acbfe285d543e5fc532a6c122\n",
      "/job/data-scientist-ntuc-link-38969bf8c12ff2a72f1e27e73b8e883a\n",
      "/job/data-architect-enterprise-architecture-office-avensys-consulting-88c018cd55c2edf7aec32353b73a61a7\n",
      "/job/head-customer-insights-analytics-hooq-digital-42782b4202a77ba52d28bd9df5fafaf5\n",
      "/job/data-scientist-lynx-analytics-ae51b760eb69abac1468b59c8bbaae6e\n"
     ]
    }
   ],
   "source": [
    "for link in bs.findAll(\"a\", {'class' : 'bg-white mb3 w-100 dib v-top pa3 no-underline flex-ns flex-wrap JobCard__card___22xP3'}):\n",
    "    print (link['href'])"
   ]
  },
  {
   "cell_type": "code",
   "execution_count": null,
   "metadata": {},
   "outputs": [],
   "source": [
    "bg-white pa4 mt4"
   ]
  },
  {
   "cell_type": "code",
   "execution_count": 213,
   "metadata": {},
   "outputs": [
    {
     "name": "stdout",
     "output_type": "stream",
     "text": [
      "nada\n"
     ]
    }
   ],
   "source": [
    "### Grab page source from job search page\n",
    "html = browser.page_source\n",
    "\n",
    "### load it into beautifulsoup\n",
    "bs = BeautifulSoup(html)\n",
    "\n",
    "### Find all links to job listing \n",
    "links = []\n",
    "\n",
    "for link in bs.find_all('a', {'class':'position-title-link'}):\n",
    "    if 'Rank' in link['href']:\n",
    "        links += [link['href']]\n",
    "    else:\n",
    "        print('nada')"
   ]
  },
  {
   "cell_type": "code",
   "execution_count": 237,
   "metadata": {},
   "outputs": [],
   "source": [
    "def load_links(links_to_get=None):\n",
    "    \"\"\"\n",
    "        Start from the first page of the 'job search' page\n",
    "            Grab all the job posts links\n",
    "            Click into the next page\n",
    "                Repeat: Grab all the job posts links again\n",
    "                Repeat this cycle until you reached the amount of links you are supposed to get\n",
    "                    or in the case where var 'links_to_get' == None, GRAB ALL WHAHAHAHA\n",
    "    \"\"\"\n",
    "    \n",
    "    base_url = 'https://www.jobstreet.com.sg/en/job-search/job-vacancy.php'\n",
    "    links = []\n",
    "    next_page= True\n",
    "    \n",
    "    browser.get(base_url)\n",
    "    \n",
    "    while next_page:\n",
    "        \n",
    "        for link in bs.find_all('a', {'class':'position-title-link'}):\n",
    "            if 'Rank' in link['href']:\n",
    "                links += [link['href']]\n",
    "        \n",
    "        try:\n",
    "            print (len(links))\n",
    "            if len(links) > links_to_get:\n",
    "                next_page = False\n",
    "        except:\n",
    "            \n",
    "            try:\n",
    "                browser.find_element_by_id('page_next').click()\n",
    "            except: \n",
    "                next_page = False\n",
    "        print(next_page)\n",
    "        \n",
    "        if len(links) % 20 == 0:\n",
    "            pd.DataFrame(links, columns=['links']).to_csv(path_or_buf='links.csv')\n",
    "            \n",
    "            \n",
    "    return links"
   ]
  },
  {
   "cell_type": "code",
   "execution_count": 231,
   "metadata": {},
   "outputs": [],
   "source": [
    "browser.get('https://www.jobstreet.com.sg/en/job/seniorstaff-nurse-45k-office-hours55-days-workicu-or-ot-7011197?fr=J&searchRequestToken=86fa4634-83f8-444a-e7ee-a186801df408&sectionRank=3')\n",
    "html = browser.page_source"
   ]
  },
  {
   "cell_type": "code",
   "execution_count": 253,
   "metadata": {
    "scrolled": true
   },
   "outputs": [
    {
     "ename": "JSONDecodeError",
     "evalue": "Expecting property name enclosed in double quotes: line 1 column 2 (char 1)",
     "output_type": "error",
     "traceback": [
      "\u001b[1;31m---------------------------------------------------------------------------\u001b[0m",
      "\u001b[1;31mJSONDecodeError\u001b[0m                           Traceback (most recent call last)",
      "\u001b[1;32m<ipython-input-253-a47a6a60d574>\u001b[0m in \u001b[0;36m<module>\u001b[1;34m\u001b[0m\n\u001b[0;32m      1\u001b[0m \u001b[0mdic\u001b[0m \u001b[1;33m=\u001b[0m \u001b[1;34m\"{1:'3'}\"\u001b[0m\u001b[1;33m\u001b[0m\u001b[1;33m\u001b[0m\u001b[0m\n\u001b[0;32m      2\u001b[0m \u001b[1;33m\u001b[0m\u001b[0m\n\u001b[1;32m----> 3\u001b[1;33m \u001b[0mjson\u001b[0m\u001b[1;33m.\u001b[0m\u001b[0mloads\u001b[0m\u001b[1;33m(\u001b[0m\u001b[0mdic\u001b[0m\u001b[1;33m)\u001b[0m\u001b[1;33m\u001b[0m\u001b[1;33m\u001b[0m\u001b[0m\n\u001b[0m",
      "\u001b[1;32m~\\Anaconda3\\lib\\json\\__init__.py\u001b[0m in \u001b[0;36mloads\u001b[1;34m(s, encoding, cls, object_hook, parse_float, parse_int, parse_constant, object_pairs_hook, **kw)\u001b[0m\n\u001b[0;32m    352\u001b[0m             \u001b[0mparse_int\u001b[0m \u001b[1;32mis\u001b[0m \u001b[1;32mNone\u001b[0m \u001b[1;32mand\u001b[0m \u001b[0mparse_float\u001b[0m \u001b[1;32mis\u001b[0m \u001b[1;32mNone\u001b[0m \u001b[1;32mand\u001b[0m\u001b[1;33m\u001b[0m\u001b[1;33m\u001b[0m\u001b[0m\n\u001b[0;32m    353\u001b[0m             parse_constant is None and object_pairs_hook is None and not kw):\n\u001b[1;32m--> 354\u001b[1;33m         \u001b[1;32mreturn\u001b[0m \u001b[0m_default_decoder\u001b[0m\u001b[1;33m.\u001b[0m\u001b[0mdecode\u001b[0m\u001b[1;33m(\u001b[0m\u001b[0ms\u001b[0m\u001b[1;33m)\u001b[0m\u001b[1;33m\u001b[0m\u001b[1;33m\u001b[0m\u001b[0m\n\u001b[0m\u001b[0;32m    355\u001b[0m     \u001b[1;32mif\u001b[0m \u001b[0mcls\u001b[0m \u001b[1;32mis\u001b[0m \u001b[1;32mNone\u001b[0m\u001b[1;33m:\u001b[0m\u001b[1;33m\u001b[0m\u001b[1;33m\u001b[0m\u001b[0m\n\u001b[0;32m    356\u001b[0m         \u001b[0mcls\u001b[0m \u001b[1;33m=\u001b[0m \u001b[0mJSONDecoder\u001b[0m\u001b[1;33m\u001b[0m\u001b[1;33m\u001b[0m\u001b[0m\n",
      "\u001b[1;32m~\\Anaconda3\\lib\\json\\decoder.py\u001b[0m in \u001b[0;36mdecode\u001b[1;34m(self, s, _w)\u001b[0m\n\u001b[0;32m    337\u001b[0m \u001b[1;33m\u001b[0m\u001b[0m\n\u001b[0;32m    338\u001b[0m         \"\"\"\n\u001b[1;32m--> 339\u001b[1;33m         \u001b[0mobj\u001b[0m\u001b[1;33m,\u001b[0m \u001b[0mend\u001b[0m \u001b[1;33m=\u001b[0m \u001b[0mself\u001b[0m\u001b[1;33m.\u001b[0m\u001b[0mraw_decode\u001b[0m\u001b[1;33m(\u001b[0m\u001b[0ms\u001b[0m\u001b[1;33m,\u001b[0m \u001b[0midx\u001b[0m\u001b[1;33m=\u001b[0m\u001b[0m_w\u001b[0m\u001b[1;33m(\u001b[0m\u001b[0ms\u001b[0m\u001b[1;33m,\u001b[0m \u001b[1;36m0\u001b[0m\u001b[1;33m)\u001b[0m\u001b[1;33m.\u001b[0m\u001b[0mend\u001b[0m\u001b[1;33m(\u001b[0m\u001b[1;33m)\u001b[0m\u001b[1;33m)\u001b[0m\u001b[1;33m\u001b[0m\u001b[1;33m\u001b[0m\u001b[0m\n\u001b[0m\u001b[0;32m    340\u001b[0m         \u001b[0mend\u001b[0m \u001b[1;33m=\u001b[0m \u001b[0m_w\u001b[0m\u001b[1;33m(\u001b[0m\u001b[0ms\u001b[0m\u001b[1;33m,\u001b[0m \u001b[0mend\u001b[0m\u001b[1;33m)\u001b[0m\u001b[1;33m.\u001b[0m\u001b[0mend\u001b[0m\u001b[1;33m(\u001b[0m\u001b[1;33m)\u001b[0m\u001b[1;33m\u001b[0m\u001b[1;33m\u001b[0m\u001b[0m\n\u001b[0;32m    341\u001b[0m         \u001b[1;32mif\u001b[0m \u001b[0mend\u001b[0m \u001b[1;33m!=\u001b[0m \u001b[0mlen\u001b[0m\u001b[1;33m(\u001b[0m\u001b[0ms\u001b[0m\u001b[1;33m)\u001b[0m\u001b[1;33m:\u001b[0m\u001b[1;33m\u001b[0m\u001b[1;33m\u001b[0m\u001b[0m\n",
      "\u001b[1;32m~\\Anaconda3\\lib\\json\\decoder.py\u001b[0m in \u001b[0;36mraw_decode\u001b[1;34m(self, s, idx)\u001b[0m\n\u001b[0;32m    353\u001b[0m         \"\"\"\n\u001b[0;32m    354\u001b[0m         \u001b[1;32mtry\u001b[0m\u001b[1;33m:\u001b[0m\u001b[1;33m\u001b[0m\u001b[1;33m\u001b[0m\u001b[0m\n\u001b[1;32m--> 355\u001b[1;33m             \u001b[0mobj\u001b[0m\u001b[1;33m,\u001b[0m \u001b[0mend\u001b[0m \u001b[1;33m=\u001b[0m \u001b[0mself\u001b[0m\u001b[1;33m.\u001b[0m\u001b[0mscan_once\u001b[0m\u001b[1;33m(\u001b[0m\u001b[0ms\u001b[0m\u001b[1;33m,\u001b[0m \u001b[0midx\u001b[0m\u001b[1;33m)\u001b[0m\u001b[1;33m\u001b[0m\u001b[1;33m\u001b[0m\u001b[0m\n\u001b[0m\u001b[0;32m    356\u001b[0m         \u001b[1;32mexcept\u001b[0m \u001b[0mStopIteration\u001b[0m \u001b[1;32mas\u001b[0m \u001b[0merr\u001b[0m\u001b[1;33m:\u001b[0m\u001b[1;33m\u001b[0m\u001b[1;33m\u001b[0m\u001b[0m\n\u001b[0;32m    357\u001b[0m             \u001b[1;32mraise\u001b[0m \u001b[0mJSONDecodeError\u001b[0m\u001b[1;33m(\u001b[0m\u001b[1;34m\"Expecting value\"\u001b[0m\u001b[1;33m,\u001b[0m \u001b[0ms\u001b[0m\u001b[1;33m,\u001b[0m \u001b[0merr\u001b[0m\u001b[1;33m.\u001b[0m\u001b[0mvalue\u001b[0m\u001b[1;33m)\u001b[0m \u001b[1;32mfrom\u001b[0m \u001b[1;32mNone\u001b[0m\u001b[1;33m\u001b[0m\u001b[1;33m\u001b[0m\u001b[0m\n",
      "\u001b[1;31mJSONDecodeError\u001b[0m: Expecting property name enclosed in double quotes: line 1 column 2 (char 1)"
     ]
    }
   ],
   "source": [
    "dic = \"{1:'3'}\"\n",
    "\n",
    "json.loads(dic)"
   ]
  },
  {
   "cell_type": "code",
   "execution_count": 238,
   "metadata": {},
   "outputs": [
    {
     "name": "stdout",
     "output_type": "stream",
     "text": [
      "20\n",
      "True\n",
      "40\n",
      "False\n"
     ]
    },
    {
     "data": {
      "text/plain": [
       "['https://www.jobstreet.com.sg/en/job/business-planning-analyst-insurance-sector-7013465?fr=J&src=16&searchRequestToken=06204792-beaa-42b0-a961-38e14ac46e04&sectionRank=21',\n",
       " 'https://www.jobstreet.com.sg/en/job/account-manager-personal-care-industrial-cleaning-7013462?fr=J&src=16&searchRequestToken=06204792-beaa-42b0-a961-38e14ac46e04&sectionRank=22',\n",
       " 'https://www.jobstreet.com.sg/en/job/accounts-cum-admin-assistant-gst-experience-2500-7013461?fr=J&src=16&searchRequestToken=06204792-beaa-42b0-a961-38e14ac46e04&sectionRank=23',\n",
       " 'https://www.jobstreet.com.sg/en/job/accounts-executive-arglgrantssap-6995053?fr=J&src=16&searchRequestToken=06204792-beaa-42b0-a961-38e14ac46e04&sectionRank=24',\n",
       " 'https://www.jobstreet.com.sg/en/job/regional-assistant-finance-manager-7013454?fr=J&src=16&searchRequestToken=06204792-beaa-42b0-a961-38e14ac46e04&sectionRank=25',\n",
       " 'https://www.jobstreet.com.sg/en/job/maintenance-officer-mon-to-fri-north-west-area-no-exp-needed-gross-1450-7013459?fr=J&src=16&searchRequestToken=06204792-beaa-42b0-a961-38e14ac46e04&sectionRank=26',\n",
       " 'https://www.jobstreet.com.sg/en/job/customer-service-officer-call-centre-east-no-experience-required-7013457?fr=J&src=16&searchRequestToken=06204792-beaa-42b0-a961-38e14ac46e04&sectionRank=27',\n",
       " 'https://www.jobstreet.com.sg/en/job/enrolled-nurse-6998123?fr=J&src=16&searchRequestToken=06204792-beaa-42b0-a961-38e14ac46e04&sectionRank=28',\n",
       " 'https://www.jobstreet.com.sg/en/job/cost-estimator-civil-works-7013455?fr=J&src=16&searchRequestToken=06204792-beaa-42b0-a961-38e14ac46e04&sectionRank=29',\n",
       " 'https://www.jobstreet.com.sg/en/job/accounts-executive-7013451?fr=J&src=16&searchRequestToken=06204792-beaa-42b0-a961-38e14ac46e04&sectionRank=30',\n",
       " 'https://www.jobstreet.com.sg/en/job/speech-therapist-7013450?fr=J&src=16&searchRequestToken=06204792-beaa-42b0-a961-38e14ac46e04&sectionRank=31',\n",
       " 'https://www.jobstreet.com.sg/en/job/executive-assistant-7010911?fr=J&src=16&searchRequestToken=06204792-beaa-42b0-a961-38e14ac46e04&sectionRank=32',\n",
       " 'https://www.jobstreet.com.sg/en/job/project-engineer-mnc-l-up-to-35k-l-west-7013448?fr=J&src=16&searchRequestToken=06204792-beaa-42b0-a961-38e14ac46e04&sectionRank=33',\n",
       " 'https://www.jobstreet.com.sg/en/job/senior-industrial-engineersemicon-mnc-up-to-6k-awsvb-7013447?fr=J&src=16&searchRequestToken=06204792-beaa-42b0-a961-38e14ac46e04&sectionRank=34',\n",
       " 'https://www.jobstreet.com.sg/en/job/sales-coordinator-west-mnc-5-days-7013446?fr=J&src=16&searchRequestToken=06204792-beaa-42b0-a961-38e14ac46e04&sectionRank=35',\n",
       " 'https://www.jobstreet.com.sg/en/job/production-assistant-7013407?fr=J&src=16&searchRequestToken=06204792-beaa-42b0-a961-38e14ac46e04&sectionRank=36',\n",
       " 'https://www.jobstreet.com.sg/en/job/operation-manager-regional-7013439?fr=J&src=16&searchRequestToken=06204792-beaa-42b0-a961-38e14ac46e04&sectionRank=37',\n",
       " 'https://www.jobstreet.com.sg/en/job/telemarketer-or-call-centre-up-to-4000-basic-plus-comm-many-positions-7013445?fr=J&src=16&searchRequestToken=06204792-beaa-42b0-a961-38e14ac46e04&sectionRank=38',\n",
       " 'https://www.jobstreet.com.sg/en/job/project-executive-advertising-6997416?fr=J&src=16&searchRequestToken=06204792-beaa-42b0-a961-38e14ac46e04&sectionRank=39',\n",
       " 'https://www.jobstreet.com.sg/en/job/commercial-fpa-manager-7013440?fr=J&src=16&searchRequestToken=06204792-beaa-42b0-a961-38e14ac46e04&sectionRank=40',\n",
       " 'https://www.jobstreet.com.sg/en/job/business-planning-analyst-insurance-sector-7013465?fr=J&src=16&searchRequestToken=06204792-beaa-42b0-a961-38e14ac46e04&sectionRank=21',\n",
       " 'https://www.jobstreet.com.sg/en/job/account-manager-personal-care-industrial-cleaning-7013462?fr=J&src=16&searchRequestToken=06204792-beaa-42b0-a961-38e14ac46e04&sectionRank=22',\n",
       " 'https://www.jobstreet.com.sg/en/job/accounts-cum-admin-assistant-gst-experience-2500-7013461?fr=J&src=16&searchRequestToken=06204792-beaa-42b0-a961-38e14ac46e04&sectionRank=23',\n",
       " 'https://www.jobstreet.com.sg/en/job/accounts-executive-arglgrantssap-6995053?fr=J&src=16&searchRequestToken=06204792-beaa-42b0-a961-38e14ac46e04&sectionRank=24',\n",
       " 'https://www.jobstreet.com.sg/en/job/regional-assistant-finance-manager-7013454?fr=J&src=16&searchRequestToken=06204792-beaa-42b0-a961-38e14ac46e04&sectionRank=25',\n",
       " 'https://www.jobstreet.com.sg/en/job/maintenance-officer-mon-to-fri-north-west-area-no-exp-needed-gross-1450-7013459?fr=J&src=16&searchRequestToken=06204792-beaa-42b0-a961-38e14ac46e04&sectionRank=26',\n",
       " 'https://www.jobstreet.com.sg/en/job/customer-service-officer-call-centre-east-no-experience-required-7013457?fr=J&src=16&searchRequestToken=06204792-beaa-42b0-a961-38e14ac46e04&sectionRank=27',\n",
       " 'https://www.jobstreet.com.sg/en/job/enrolled-nurse-6998123?fr=J&src=16&searchRequestToken=06204792-beaa-42b0-a961-38e14ac46e04&sectionRank=28',\n",
       " 'https://www.jobstreet.com.sg/en/job/cost-estimator-civil-works-7013455?fr=J&src=16&searchRequestToken=06204792-beaa-42b0-a961-38e14ac46e04&sectionRank=29',\n",
       " 'https://www.jobstreet.com.sg/en/job/accounts-executive-7013451?fr=J&src=16&searchRequestToken=06204792-beaa-42b0-a961-38e14ac46e04&sectionRank=30',\n",
       " 'https://www.jobstreet.com.sg/en/job/speech-therapist-7013450?fr=J&src=16&searchRequestToken=06204792-beaa-42b0-a961-38e14ac46e04&sectionRank=31',\n",
       " 'https://www.jobstreet.com.sg/en/job/executive-assistant-7010911?fr=J&src=16&searchRequestToken=06204792-beaa-42b0-a961-38e14ac46e04&sectionRank=32',\n",
       " 'https://www.jobstreet.com.sg/en/job/project-engineer-mnc-l-up-to-35k-l-west-7013448?fr=J&src=16&searchRequestToken=06204792-beaa-42b0-a961-38e14ac46e04&sectionRank=33',\n",
       " 'https://www.jobstreet.com.sg/en/job/senior-industrial-engineersemicon-mnc-up-to-6k-awsvb-7013447?fr=J&src=16&searchRequestToken=06204792-beaa-42b0-a961-38e14ac46e04&sectionRank=34',\n",
       " 'https://www.jobstreet.com.sg/en/job/sales-coordinator-west-mnc-5-days-7013446?fr=J&src=16&searchRequestToken=06204792-beaa-42b0-a961-38e14ac46e04&sectionRank=35',\n",
       " 'https://www.jobstreet.com.sg/en/job/production-assistant-7013407?fr=J&src=16&searchRequestToken=06204792-beaa-42b0-a961-38e14ac46e04&sectionRank=36',\n",
       " 'https://www.jobstreet.com.sg/en/job/operation-manager-regional-7013439?fr=J&src=16&searchRequestToken=06204792-beaa-42b0-a961-38e14ac46e04&sectionRank=37',\n",
       " 'https://www.jobstreet.com.sg/en/job/telemarketer-or-call-centre-up-to-4000-basic-plus-comm-many-positions-7013445?fr=J&src=16&searchRequestToken=06204792-beaa-42b0-a961-38e14ac46e04&sectionRank=38',\n",
       " 'https://www.jobstreet.com.sg/en/job/project-executive-advertising-6997416?fr=J&src=16&searchRequestToken=06204792-beaa-42b0-a961-38e14ac46e04&sectionRank=39',\n",
       " 'https://www.jobstreet.com.sg/en/job/commercial-fpa-manager-7013440?fr=J&src=16&searchRequestToken=06204792-beaa-42b0-a961-38e14ac46e04&sectionRank=40']"
      ]
     },
     "execution_count": 238,
     "metadata": {},
     "output_type": "execute_result"
    }
   ],
   "source": [
    "load_links(30)"
   ]
  },
  {
   "cell_type": "code",
   "execution_count": 206,
   "metadata": {},
   "outputs": [],
   "source": [
    "def scrap(url):\n",
    "    \"\"\"\n",
    "        Takes in an url as a string\n",
    "        Scraps Job listing information from the page \n",
    "        Returns a dictionary of dictionary format information dump\n",
    "    \"\"\"\n",
    "    information = {}\n",
    "    \n",
    "    browser.get(url)\n",
    "    html = browser.page_source\n",
    "    \n",
    "    bs = BeautifulSoup(html)\n",
    "    \n",
    "    \n",
    "### Job Description\n",
    "    \n",
    "    try:\n",
    "        if len(bs.findAll('div', {'id' : 'job_description'})) > 0:\n",
    "            holding_lis = ''\n",
    "            \n",
    "            for info in bs.findAll('div', {'id' : 'job_description'}):\n",
    "                holding_lis += info.text\n",
    "            information['Job_Description'] = holding_lis\n",
    "            \n",
    "        else:\n",
    "            information['Job_Description'] = 'No Information'\n",
    "    \n",
    "    except:\n",
    "        information['Job_Description'] = 'Error'\n",
    "        \n",
    "### Company Overview       \n",
    "        \n",
    "    try:\n",
    "        if len(bs.findAll('div', {'id' : 'company_overview_all'})) > 0:\n",
    "            holding_lis = ''\n",
    "            \n",
    "            for info in bs.findAll('div', {'id' : 'company_overview_all'}):\n",
    "                holding_lis += info.text\n",
    "            information['Company_Overview'] = holding_lis\n",
    "            \n",
    "        else:\n",
    "            information['Company_Overview'] = 'No Information'\n",
    "    \n",
    "    except:\n",
    "        information['Company_Overview'] = 'Error'\n",
    "        \n",
    "        \n",
    "### Why Join Us Statement       \n",
    "        \n",
    "    try:\n",
    "        if len(bs.findAll('div', {'id' : 'why_join_us_all'})) > 0:\n",
    "            holding_lis = ''\n",
    "            \n",
    "            for info in bs.findAll('div', {'id' : 'why_join_us_all'}):\n",
    "                holding_lis += info.text\n",
    "            information['Why_Join_Us_Statement'] = holding_lis\n",
    "            \n",
    "        else:\n",
    "            information['Why_Join_Us_Statement'] = 'No Information'\n",
    "    \n",
    "    except:\n",
    "        information['Why_Join_Us_Statement'] = 'Error'\n",
    "        \n",
    "        \n",
    "### Work Location       \n",
    "        \n",
    "    try:\n",
    "        if len(bs.findAll('p', {'class' : 'add-detail-p'})) > 0:\n",
    "            holding_lis = ''\n",
    "            \n",
    "            for info in bs.findAll('p', {'class' : 'add-detail-p'}):\n",
    "                holding_lis += info.text\n",
    "            information['Work_Location'] = holding_lis\n",
    "            \n",
    "        else:\n",
    "            information['Work_Location'] = 'No Information'\n",
    "    \n",
    "    except:\n",
    "        information['Work_Location'] = 'Error'\n",
    "        \n",
    "        \n",
    "### Position Title       \n",
    "        \n",
    "    try:\n",
    "        if len(bs.findAll('h1', {'id' : 'position_title'})) > 0:\n",
    "            holding_lis = ''\n",
    "            \n",
    "            for info in bs.findAll('h1', {'id' : 'position_title'}):\n",
    "                holding_lis += info.text\n",
    "            information['Position_Title'] = holding_lis\n",
    "            \n",
    "        else:\n",
    "            information['Position_Title'] = 'No Information'\n",
    "    \n",
    "    except:\n",
    "        information['Position_Title'] = 'Error'\n",
    "        \n",
    "\n",
    "### Average Processing Time       \n",
    "        \n",
    "    try:\n",
    "        if len(bs.findAll('p', {'id' : 'fast_average_processing_time'})) > 0:\n",
    "            holding_lis = ''\n",
    "            \n",
    "            for info in bs.findAll('p', {'id' : 'fast_average_processing_time'}):\n",
    "                holding_lis += info.text.replace('\\n','').replace('\\t','')\n",
    "            information['Avg_Processing_Time'] = holding_lis\n",
    "            \n",
    "        else:\n",
    "            information['Avg_Processing_Time'] = 'No Information'\n",
    "    \n",
    "    except:\n",
    "        information['Avg_Processing_Time'] = 'Error'    \n",
    "        \n",
    "        \n",
    "### Industry     \n",
    "        \n",
    "    try:\n",
    "        if len(bs.findAll('p', {'id' : 'company_industry'})) > 0:\n",
    "            holding_lis = ''\n",
    "            \n",
    "            for info in bs.findAll('p', {'id' : 'company_industry'}):\n",
    "                holding_lis += info.text\n",
    "            information['Industry'] = holding_lis\n",
    "            \n",
    "        else:\n",
    "            information['Industry'] = 'No Information'\n",
    "    \n",
    "    except:\n",
    "        information['Industry'] = 'Error'    \n",
    "        \n",
    "\n",
    "### Company Size     \n",
    "        \n",
    "    try:\n",
    "        if len(bs.findAll('p', {'id' : 'company_size'})) > 0:\n",
    "            holding_lis = ''\n",
    "            \n",
    "            for info in bs.findAll('p', {'id' : 'company_size'}):\n",
    "                holding_lis += info.text.replace('\\n','')\n",
    "            information['Company_Size'] = holding_lis\n",
    "            \n",
    "        else:\n",
    "            information['Company_Size'] = 'No Information'\n",
    "    \n",
    "    except:\n",
    "        information['Company_Size'] = 'Error'    \n",
    "        \n",
    "        \n",
    "### Working Hours     \n",
    "        \n",
    "    try:\n",
    "        if len(bs.findAll('p', {'id' : 'work_enviroment_working_hours'})) > 0:\n",
    "            holding_lis = ''\n",
    "            \n",
    "            for info in bs.findAll('p', {'id' : 'work_enviroment_working_hours'}):\n",
    "                holding_lis += info.text.replace('\\n','')\n",
    "            information['Working_Hours'] = holding_lis\n",
    "            \n",
    "        else:\n",
    "            information['Working_Hours'] = 'No Information'\n",
    "    \n",
    "    except:\n",
    "        information['Working_Hours'] = 'Error'   \n",
    "        \n",
    "        \n",
    "### Dress Code     \n",
    "        \n",
    "    try:\n",
    "        if len(bs.findAll('p', {'id' : 'work_enviroment_dress_code'})) > 0:\n",
    "            holding_lis = ''\n",
    "            \n",
    "            for info in bs.findAll('p', {'id' : 'work_enviroment_dress_code'}):\n",
    "                holding_lis += info.text.replace('\\n','')\n",
    "            information['Dress_Code'] = holding_lis\n",
    "            \n",
    "        else:\n",
    "            information['Dress_Code'] = 'No Information'\n",
    "    \n",
    "    except:\n",
    "        information['Dress_Code'] = 'Error'   \n",
    "        \n",
    "        \n",
    "### Work Benefits     \n",
    "        \n",
    "    try:\n",
    "        if len(bs.findAll('p', {'id' : 'work_enviroment_benefits'})) > 0:\n",
    "            holding_lis = ''\n",
    "            \n",
    "            for info in bs.findAll('p', {'id' : 'work_enviroment_benefits'}):\n",
    "                holding_lis += info.text.replace('\\n','')\n",
    "            information['Work_Benefits'] = holding_lis\n",
    "            \n",
    "        else:\n",
    "            information['Work_Benefits'] = 'No Information'\n",
    "    \n",
    "    except:\n",
    "        information['Work_Benefits'] = 'Error'\n",
    "        \n",
    "        \n",
    "        \n",
    "### Spoken Language     \n",
    "        \n",
    "    try:\n",
    "        if len(bs.findAll('p', {'id' : 'work_enviroment_spoken_language'})) > 0:\n",
    "            holding_lis = ''\n",
    "            \n",
    "            for info in bs.findAll('p', {'id' : 'work_enviroment_spoken_language'}):\n",
    "                holding_lis += info.text.replace('\\n','')\n",
    "            information['Spoken_Language'] = holding_lis\n",
    "            \n",
    "        else:\n",
    "            information['Spoken_Language'] = 'No Information'\n",
    "    \n",
    "    except:\n",
    "        information['Spoken_Language'] = 'Error'\n",
    "        \n",
    "        \n",
    "### Salary Range     \n",
    "        \n",
    "    try:\n",
    "        holding_lis = browser.find_element_by_xpath('//*[@id=\"salary_range\"]').text\n",
    "        information['Salary_Range'] = holding_lis\n",
    "    \n",
    "    except:\n",
    "        information['Salary_Range'] = 'Error'\n",
    "\n",
    "        \n",
    "\n",
    "### Experience Needed / Required     \n",
    "        \n",
    "    try:\n",
    "        holding_lis = browser.find_element_by_xpath('//*[@id=\"years_of_experience\"]').text\n",
    "        information['Experience_Needed'] = holding_lis\n",
    "    \n",
    "    except:\n",
    "        information['Experience_Needed'] = 'Error'\n",
    "        \n",
    "        \n",
    "        \n",
    "### General Work Location     \n",
    "        \n",
    "    try:\n",
    "        holding_lis = browser.find_element_by_xpath('//*[@id=\"single_work_location\"]').text\n",
    "        information['General_Work_Location'] = holding_lis\n",
    "    \n",
    "    except:\n",
    "        information['General_Work_Location'] = 'Error'\n",
    "        \n",
    "        \n",
    "### Company Name\n",
    "        \n",
    "    try:\n",
    "        holding_lis = browser.find_element_by_xpath('//*[@id=\"company_name\"]/a').text\n",
    "        information['Company_Name'] = holding_lis\n",
    "    \n",
    "    except:\n",
    "        information['Company_Name'] = 'Error'\n",
    "        \n",
    "        \n",
    "    return information "
   ]
  },
  {
   "cell_type": "code",
   "execution_count": 207,
   "metadata": {},
   "outputs": [],
   "source": [
    "out = scrap('https://www.jobstreet.com.sg/en/job/seniorstaff-nurse-45k-office-hours55-days-workicu-or-ot-7011197?fr=J&searchRequestToken=86fa4634-83f8-444a-e7ee-a186801df408&sectionRank=3')"
   ]
  },
  {
   "cell_type": "code",
   "execution_count": 208,
   "metadata": {
    "scrolled": false
   },
   "outputs": [
    {
     "name": "stdout",
     "output_type": "stream",
     "text": [
      "{'Avg_Processing_Time': 'More Than 2 Weeks',\n",
      " 'Company_Name': 'Capita Pte Ltd - Healthcare',\n",
      " 'Company_Overview': '\\n'\n",
      "                     'Founded in 2007 in Singapore, Capita Pte Ltd is a '\n",
      "                     'premium recruitment expert and staffing provider for '\n",
      "                     'international companies in Singapore and across Asia.\\xa0'\n",
      "                     'Encompassing local and international placements, '\n",
      "                     'contract and temporary staffing, outplacement as well as '\n",
      "                     'payroll services across all industry sectors, Capita’s '\n",
      "                     'highly personalised service ensures that its clients '\n",
      "                     'find the right talent to meet their human resource '\n",
      "                     'needs.\\xa0Capita’s service offering is split into '\n",
      "                     'corporate and specialised divisions. While the corporate '\n",
      "                     'division comprises the business support and outsourcing '\n",
      "                     'practices that focus on permanent, contract and '\n",
      "                     'temporary positions, the specialised division has a '\n",
      "                     'focus on the engineering, banking and finance as well as '\n",
      "                     'technology industries. With more companies requiring '\n",
      "                     'candidates for specialist functions as well as talent '\n",
      "                     'with generalist capabilities in an increasingly '\n",
      "                     'competitive business environment, these divisions ensure '\n",
      "                     'that clients work with industry-focused consultants with '\n",
      "                     'specific expertise to match their talent management '\n",
      "                     'needs.In 2012, Capita expanded its footprint in Asia, '\n",
      "                     'opening an office in Kuala Lumpur, Malaysia to better '\n",
      "                     'serve regional clients.\\xa0Capita\\xa0 has been '\n",
      "                     'recognised as one of the preferred HR Vendors of the '\n",
      "                     'Year for six consecutive years since 2010. In addition, '\n",
      "                     'we have also been honoured with the Enterprise 50 award '\n",
      "                     'in 2012 as well as the Recruitment Agency of the Year '\n",
      "                     'Silver Award (Asia Recruitment Awards, 2015).\\xa0More '\n",
      "                     'information about Capita Pte Ltd is available at '\n",
      "                     'www.capitasingapore.com and '\n",
      "                     'www.facebook.com/capitasingapore\\xa0<<<By submitting '\n",
      "                     'your curriculum vitae or personal data to us in '\n",
      "                     'connection with your job application, you are deemed to '\n",
      "                     'have read and agreed to the terms of our Privacy Policy, '\n",
      "                     'and consented to the collection, use and disclosure of '\n",
      "                     'your personal data by us and our affiliates, in '\n",
      "                     'accordance with our Privacy Policy.\\xa0Please visit '\n",
      "                     'www.capitagrp.com for a copy of our Privacy Policy. If '\n",
      "                     'you wish to withdraw your consent, please drop us an '\n",
      "                     'email at \"dataprotection@persolkelly.com\" to let us '\n",
      "                     'know. (NOTE: any resumes or job applications sent to '\n",
      "                     'this data protection mailbox will NOT be attended to as '\n",
      "                     'it is solely for the purposes of personal data '\n",
      "                     'protection related feedback.)\\xa0\\n',\n",
      " 'Company_Size': '51 - 200 Employees',\n",
      " 'Dress_Code': 'No Information',\n",
      " 'Experience_Needed': 'Min 1 year (Non-Executive)',\n",
      " 'General_Work_Location': 'Singapore - Central',\n",
      " 'Industry': 'Human Resources Management/Consulting',\n",
      " 'Job_Description': ' Responsible• Assist doctor in procedure or cardiac '\n",
      "                    'operation, able to do scrub• Front counter duties• '\n",
      "                    \"Dispense medication• Communicate and discuss patients' \"\n",
      "                    'progress and response to treatment with doctors, nursing '\n",
      "                    'and allied health colleagues.• Follow-up to ensure '\n",
      "                    'continuity of patient care and treatment '\n",
      "                    'plans.Requirement• Diploma/Degree in Nursing• SNB '\n",
      "                    'Registered\\xa0Interested candidates who wish to apply for '\n",
      "                    'the advertised position, please email us an updated copy '\n",
      "                    'of your resume (Attn: ESL) or contact our office at +65 '\n",
      "                    '6709 3569 for a confidential discussion.\\xa0We regret to '\n",
      "                    'inform that only shortlisted candidates will be '\n",
      "                    'notified.\\xa0Job Code: ESLEmail Address: '\n",
      "                    'Healthcare@capitasingapore.comEA License No.: '\n",
      "                    '08C2893\\xa0 ',\n",
      " 'Position_Title': 'Senior/Staff Nurse $4.5k (Office hours/5.5 days work/ICU '\n",
      "                   'or OT)',\n",
      " 'Salary_Range': 'SGD 2,500 - SGD 4,500',\n",
      " 'Spoken_Language': 'No Information',\n",
      " 'Why_Join_Us_Statement': 'No Information',\n",
      " 'Work_Benefits': 'No Information',\n",
      " 'Work_Location': '8 Marina View #11-01 Asia Square Tower 1 Singapore 018960',\n",
      " 'Working_Hours': 'No Information'}\n"
     ]
    }
   ],
   "source": [
    "pprint.pprint(out)"
   ]
  },
  {
   "cell_type": "code",
   "execution_count": 160,
   "metadata": {},
   "outputs": [],
   "source": [
    "bs1 = BeautifulSoup(html)\n",
    "    "
   ]
  },
  {
   "cell_type": "code",
   "execution_count": 195,
   "metadata": {},
   "outputs": [
    {
     "name": "stdout",
     "output_type": "stream",
     "text": [
      " Responsible• Assist doctor in procedure or cardiac operation, able to do scrub• Front counter duties• Dispense medication• Communicate and discuss patients' progress and response to treatment with doctors, nursing and allied health colleagues.• Follow-up to ensure continuity of patient care and treatment plans.Requirement• Diploma/Degree in Nursing• SNB Registered Interested candidates who wish to apply for the advertised position, please email us an updated copy of your resume (Attn: ESL) or contact our office at +65 6709 3569 for a confidential discussion. We regret to inform that only shortlisted candidates will be notified. Job Code: ESLEmail Address: Healthcare@capitasingapore.comEA License No.: 08C2893  \n"
     ]
    },
    {
     "data": {
      "text/plain": [
       "[\" Responsible• Assist doctor in procedure or cardiac operation, able to do scrub• Front counter duties• Dispense medication• Communicate and discuss patients' progress and response to treatment with doctors, nursing and allied health colleagues.• Follow-up to ensure continuity of patient care and treatment plans.Requirement• Diploma/Degree in Nursing• SNB Registered\\xa0Interested candidates who wish to apply for the advertised position, please email us an updated copy of your resume (Attn: ESL) or contact our office at +65 6709 3569 for a confidential discussion.\\xa0We regret to inform that only shortlisted candidates will be notified.\\xa0Job Code: ESLEmail Address: Healthcare@capitasingapore.comEA License No.: 08C2893\\xa0 \"]"
      ]
     },
     "execution_count": 195,
     "metadata": {},
     "output_type": "execute_result"
    }
   ],
   "source": [
    "### JD\n",
    "lis = []\n",
    "for n in bs1.findAll('div', {'id' : 'job_description'}):\n",
    "    lis += [n.text]\n",
    "    print(n.text)\n",
    "lis"
   ]
  },
  {
   "cell_type": "code",
   "execution_count": 27,
   "metadata": {},
   "outputs": [
    {
     "data": {
      "text/plain": [
       "48.333333333333336"
      ]
     },
     "execution_count": 27,
     "metadata": {},
     "output_type": "execute_result"
    }
   ],
   "source": [
    "4000/200\n",
    "2900/60"
   ]
  },
  {
   "cell_type": "code",
   "execution_count": 162,
   "metadata": {},
   "outputs": [
    {
     "name": "stdout",
     "output_type": "stream",
     "text": [
      "\n",
      "Founded in 2007 in Singapore, Capita Pte Ltd is a premium recruitment expert and staffing provider for international companies in Singapore and across Asia. Encompassing local and international placements, contract and temporary staffing, outplacement as well as payroll services across all industry sectors, Capita’s highly personalised service ensures that its clients find the right talent to meet their human resource needs. Capita’s service offering is split into corporate and specialised divisions. While the corporate division comprises the business support and outsourcing practices that focus on permanent, contract and temporary positions, the specialised division has a focus on the engineering, banking and finance as well as technology industries. With more companies requiring candidates for specialist functions as well as talent with generalist capabilities in an increasingly competitive business environment, these divisions ensure that clients work with industry-focused consultants with specific expertise to match their talent management needs.In 2012, Capita expanded its footprint in Asia, opening an office in Kuala Lumpur, Malaysia to better serve regional clients. Capita  has been recognised as one of the preferred HR Vendors of the Year for six consecutive years since 2010. In addition, we have also been honoured with the Enterprise 50 award in 2012 as well as the Recruitment Agency of the Year Silver Award (Asia Recruitment Awards, 2015). More information about Capita Pte Ltd is available at www.capitasingapore.com and www.facebook.com/capitasingapore <<<By submitting your curriculum vitae or personal data to us in connection with your job application, you are deemed to have read and agreed to the terms of our Privacy Policy, and consented to the collection, use and disclosure of your personal data by us and our affiliates, in accordance with our Privacy Policy. Please visit www.capitagrp.com for a copy of our Privacy Policy. If you wish to withdraw your consent, please drop us an email at \"dataprotection@persolkelly.com\" to let us know. (NOTE: any resumes or job applications sent to this data protection mailbox will NOT be attended to as it is solely for the purposes of personal data protection related feedback.) \n",
      "\n"
     ]
    }
   ],
   "source": [
    "### Company overview\n",
    "for n in bs1.findAll('div', {'id' : 'company_overview_all'}):\n",
    "    print(n.text)"
   ]
  },
  {
   "cell_type": "code",
   "execution_count": 189,
   "metadata": {},
   "outputs": [],
   "source": [
    "### Why Join Us?\n",
    "for n in bs1.findAll('div', {'id' : 'why_join_us_all'}):\n",
    "    print(n.text)"
   ]
  },
  {
   "cell_type": "code",
   "execution_count": 188,
   "metadata": {},
   "outputs": [
    {
     "name": "stdout",
     "output_type": "stream",
     "text": [
      "8 Marina View #11-01 Asia Square Tower 1 Singapore 018960\n"
     ]
    }
   ],
   "source": [
    "### Work Location\n",
    "for n in bs1.findAll('p', {'class' : 'add-detail-p'}):\n",
    "    print(n.text)"
   ]
  },
  {
   "cell_type": "code",
   "execution_count": 163,
   "metadata": {},
   "outputs": [
    {
     "name": "stdout",
     "output_type": "stream",
     "text": [
      "RECRUITMENT FIRM SNAPSHOT            Average Processing Time More Than 2 WeeksEA No.08C2893IndustryHuman Resources Management/ConsultingWebsitehttp://www.capitasingapore.com/Facebook Fan Pagehttps://www.facebook.com/capitasingaporeCompany Size51 - 200 Employees\n"
     ]
    }
   ],
   "source": [
    "lis = [] \n",
    "for n in bs1.findAll('div', {'class' : 'panel-body'}):\n",
    "    new_text = n.text.replace('\\n','').replace('\\t','')\n",
    "    lis += [new_text]\n",
    "print (lis[3])"
   ]
  },
  {
   "cell_type": "code",
   "execution_count": 97,
   "metadata": {},
   "outputs": [
    {
     "name": "stdout",
     "output_type": "stream",
     "text": [
      "Senior/Staff Nurse $4.5k (Office hours/5.5 days work/ICU or OT)\n"
     ]
    }
   ],
   "source": [
    "### Title\n",
    "for n in bs1.findAll('h1', {'id' : 'position_title'}):\n",
    "    print(n.text)"
   ]
  },
  {
   "cell_type": "code",
   "execution_count": 165,
   "metadata": {},
   "outputs": [
    {
     "name": "stdout",
     "output_type": "stream",
     "text": [
      "\t\t\t\t\t\t\t\t\t\tMore Than 2 Weeks\t\t\t\t\t\t\t\t\t\t\t\t\t\t\n"
     ]
    }
   ],
   "source": [
    "### Average Processing Time\n",
    "for n in bs1.findAll('p', {'id' : 'fast_average_processing_time'}):\n",
    "    print(n.text.replace('\\n',''))"
   ]
  },
  {
   "cell_type": "code",
   "execution_count": 166,
   "metadata": {},
   "outputs": [
    {
     "name": "stdout",
     "output_type": "stream",
     "text": [
      "Human Resources Management/Consulting\n"
     ]
    }
   ],
   "source": [
    "### Industry\n",
    "for n in bs1.findAll('p', {'id' : 'company_industry'}):\n",
    "    print(n.text.replace('\\n',''))"
   ]
  },
  {
   "cell_type": "code",
   "execution_count": 167,
   "metadata": {},
   "outputs": [
    {
     "name": "stdout",
     "output_type": "stream",
     "text": [
      "51 - 200 Employees\n"
     ]
    }
   ],
   "source": [
    "### Company Size\n",
    "for n in bs1.findAll('p', {'id' : 'company_size'}):\n",
    "    print(n.text.replace('\\n',''))"
   ]
  },
  {
   "cell_type": "code",
   "execution_count": 170,
   "metadata": {},
   "outputs": [],
   "source": [
    "### Working Hours\n",
    "for n in bs1.findAll('p', {'id' : 'work_enviroment_working_hours'}):\n",
    "    print(n.text.replace('\\n',''))"
   ]
  },
  {
   "cell_type": "code",
   "execution_count": 169,
   "metadata": {},
   "outputs": [],
   "source": [
    "### Dress Code\n",
    "for n in bs1.findAll('p', {'id' : 'work_enviroment_dress_code'}):\n",
    "    print(n.text.replace('\\n',''))"
   ]
  },
  {
   "cell_type": "code",
   "execution_count": 171,
   "metadata": {},
   "outputs": [],
   "source": [
    "### Benefits\n",
    "for n in bs1.findAll('p', {'id' : 'work_enviroment_benefits'}):\n",
    "    print(n.text.replace('\\n',''))"
   ]
  },
  {
   "cell_type": "code",
   "execution_count": 187,
   "metadata": {},
   "outputs": [],
   "source": [
    "### Spoken Language\n",
    "for n in bs1.findAll('p', {'id' : 'work_enviroment_spoken_language'}): \n",
    "    print(n.text.replace('\\n',''))\n"
   ]
  },
  {
   "cell_type": "code",
   "execution_count": null,
   "metadata": {},
   "outputs": [],
   "source": []
  },
  {
   "cell_type": "code",
   "execution_count": 107,
   "metadata": {},
   "outputs": [
    {
     "data": {
      "text/plain": [
       "'SGD 2,500 - SGD 4,500'"
      ]
     },
     "execution_count": 107,
     "metadata": {},
     "output_type": "execute_result"
    }
   ],
   "source": [
    "### Salary range\n",
    "browser.find_element_by_xpath('//*[@id=\"salary_range\"]').text"
   ]
  },
  {
   "cell_type": "code",
   "execution_count": 108,
   "metadata": {},
   "outputs": [
    {
     "data": {
      "text/plain": [
       "'Min 1 year (Non-Executive)'"
      ]
     },
     "execution_count": 108,
     "metadata": {},
     "output_type": "execute_result"
    }
   ],
   "source": [
    "### Experience needed\n",
    "browser.find_element_by_xpath('//*[@id=\"years_of_experience\"]').text"
   ]
  },
  {
   "cell_type": "code",
   "execution_count": 109,
   "metadata": {},
   "outputs": [
    {
     "data": {
      "text/plain": [
       "'Singapore - Central'"
      ]
     },
     "execution_count": 109,
     "metadata": {},
     "output_type": "execute_result"
    }
   ],
   "source": [
    "### Location\n",
    "browser.find_element_by_xpath('//*[@id=\"single_work_location\"]').text"
   ]
  },
  {
   "cell_type": "code",
   "execution_count": 112,
   "metadata": {},
   "outputs": [
    {
     "data": {
      "text/plain": [
       "'Capita Pte Ltd - Healthcare'"
      ]
     },
     "execution_count": 112,
     "metadata": {},
     "output_type": "execute_result"
    }
   ],
   "source": [
    "### company name\n",
    "browser.find_element_by_xpath('//*[@id=\"company_name\"]/a').text"
   ]
  },
  {
   "cell_type": "code",
   "execution_count": null,
   "metadata": {},
   "outputs": [],
   "source": [
    "### \n"
   ]
  },
  {
   "cell_type": "code",
   "execution_count": null,
   "metadata": {},
   "outputs": [],
   "source": []
  },
  {
   "cell_type": "code",
   "execution_count": 77,
   "metadata": {},
   "outputs": [
    {
     "name": "stdout",
     "output_type": "stream",
     "text": [
      "https://www.jobstreet.com.sg/en/job/assistant-managermanager-customer-service-7011168?fr=J&searchRequestToken=954bf32d-02f9-4d62-9248-bf5e5c5d5b78&sectionRank=1\n",
      "nada\n",
      "https://www.jobstreet.com.sg/en/job/events-executive-7011164?fr=J&searchRequestToken=954bf32d-02f9-4d62-9248-bf5e5c5d5b78&sectionRank=2\n",
      "https://www.jobstreet.com.sg/en/job/algorithms-engineer-7011163?fr=J&searchRequestToken=954bf32d-02f9-4d62-9248-bf5e5c5d5b78&sectionRank=3\n",
      "https://www.jobstreet.com.sg/en/job/visustore-specialist-1-year-contract-6996187?fr=J&searchRequestToken=954bf32d-02f9-4d62-9248-bf5e5c5d5b78&sectionRank=4\n",
      "https://www.jobstreet.com.sg/en/job/purchasing-executive-good-exposure-fb-6995949?fr=J&searchRequestToken=954bf32d-02f9-4d62-9248-bf5e5c5d5b78&sectionRank=5\n",
      "https://www.jobstreet.com.sg/en/job/ship-broker-7011151?fr=J&searchRequestToken=954bf32d-02f9-4d62-9248-bf5e5c5d5b78&sectionRank=6\n",
      "https://www.jobstreet.com.sg/en/job/sales-executive-7011159?fr=J&searchRequestToken=954bf32d-02f9-4d62-9248-bf5e5c5d5b78&sectionRank=7\n",
      "https://www.jobstreet.com.sg/en/job/senior-executive-premier-segment-support-7011158?fr=J&searchRequestToken=954bf32d-02f9-4d62-9248-bf5e5c5d5b78&sectionRank=8\n",
      "https://www.jobstreet.com.sg/en/job/senior-executivemanager-station-support-operations-development-6939864?fr=J&searchRequestToken=954bf32d-02f9-4d62-9248-bf5e5c5d5b78&sectionRank=9\n",
      "https://www.jobstreet.com.sg/en/job/nve-systems-media-engineer-7011162?fr=J&searchRequestToken=954bf32d-02f9-4d62-9248-bf5e5c5d5b78&sectionRank=10\n",
      "https://www.jobstreet.com.sg/en/job/senior-enrolled-nurse-enrolled-nurse-cancer-centre-7011160?fr=J&searchRequestToken=954bf32d-02f9-4d62-9248-bf5e5c5d5b78&sectionRank=11\n",
      "https://www.jobstreet.com.sg/en/job/sales-engineer-for-electronic-and-plastic-moulding-industry-7011157?fr=J&searchRequestToken=954bf32d-02f9-4d62-9248-bf5e5c5d5b78&sectionRank=12\n",
      "https://www.jobstreet.com.sg/en/job/senior-executivemanager-station-support-operations-development-7011156?fr=J&searchRequestToken=954bf32d-02f9-4d62-9248-bf5e5c5d5b78&sectionRank=13\n",
      "https://www.jobstreet.com.sg/en/job/service-technician-liftescalator-x-10-up-3000-incentives-7011155?fr=J&searchRequestToken=954bf32d-02f9-4d62-9248-bf5e5c5d5b78&sectionRank=14\n",
      "https://www.jobstreet.com.sg/en/job/technician-6996621?fr=J&searchRequestToken=954bf32d-02f9-4d62-9248-bf5e5c5d5b78&sectionRank=15\n",
      "https://www.jobstreet.com.sg/en/job/solution-architect-sgx-telecommunications-we-7011153?fr=J&searchRequestToken=954bf32d-02f9-4d62-9248-bf5e5c5d5b78&sectionRank=16\n",
      "https://www.jobstreet.com.sg/en/job/test-equipment-engineer-7011152?fr=J&searchRequestToken=954bf32d-02f9-4d62-9248-bf5e5c5d5b78&sectionRank=17\n",
      "https://www.jobstreet.com.sg/en/job/assistant-manager-means-testing-6994472?fr=J&searchRequestToken=954bf32d-02f9-4d62-9248-bf5e5c5d5b78&sectionRank=18\n",
      "https://www.jobstreet.com.sg/en/job/sales-engineer-rdelectronicssensorsredhill-7011150?fr=J&searchRequestToken=954bf32d-02f9-4d62-9248-bf5e5c5d5b78&sectionRank=19\n",
      "https://www.jobstreet.com.sg/en/job/lew-licensed-electrical-worker-lta-projects-7011149?fr=J&searchRequestToken=954bf32d-02f9-4d62-9248-bf5e5c5d5b78&sectionRank=20\n"
     ]
    }
   ],
   "source": []
  },
  {
   "cell_type": "code",
   "execution_count": null,
   "metadata": {},
   "outputs": [],
   "source": [
    "        [self.Job_Description,\n",
    "        self.Company_Overview,\n",
    "        self.Why_Join_Us_Statement,\n",
    "        self.Work_Location,\n",
    "        self.Position_Title,\n",
    "        self.Avg_Processing_Time,\n",
    "        self.Industry,\n",
    "        self.Company_Size,\n",
    "        self.Working_Hours,\n",
    "        self.Dress_Code,\n",
    "        self.Work_Benefits,\n",
    "        self.Spoken_Language,\n",
    "        self.Salary_Range,\n",
    "        self.Experience_Needed,\n",
    "        self.General_Work_Location,\n",
    "        self.Company_Name]"
   ]
  },
  {
   "cell_type": "code",
   "execution_count": 254,
   "metadata": {},
   "outputs": [],
   "source": [
    "names = 'self.Job_Description,self.Company_Overview,self.Why_Join_Us_Statement,self.Work_Location,self.Position_Title,self.Avg_Processing_Time,self.Industry,self.Company_Size,self.Working_Hours,self.Dress_Code,self.Work_Benefits,self.Spoken_Language,self.Salary_Range,self.Experience_Needed,self.General_Work_Location,self.Company_Name'"
   ]
  },
  {
   "cell_type": "code",
   "execution_count": 256,
   "metadata": {},
   "outputs": [
    {
     "data": {
      "text/plain": [
       "['Job_Description',\n",
       " 'Company_Overview',\n",
       " 'Why_Join_Us_Statement',\n",
       " 'Work_Location',\n",
       " 'Position_Title',\n",
       " 'Avg_Processing_Time',\n",
       " 'Industry',\n",
       " 'Company_Size',\n",
       " 'Working_Hours',\n",
       " 'Dress_Code',\n",
       " 'Work_Benefits',\n",
       " 'Spoken_Language',\n",
       " 'Salary_Range',\n",
       " 'Experience_Needed',\n",
       " 'General_Work_Location',\n",
       " 'Company_Name']"
      ]
     },
     "execution_count": 256,
     "metadata": {},
     "output_type": "execute_result"
    }
   ],
   "source": [
    "names.replace('self.','').split(',')"
   ]
  },
  {
   "cell_type": "code",
   "execution_count": 257,
   "metadata": {},
   "outputs": [
    {
     "data": {
      "text/plain": [
       "['data[row][Job_Description]',\n",
       " 'data[row][Company_Overview]',\n",
       " 'data[row][Why_Join_Us_Statement]',\n",
       " 'data[row][Work_Location]',\n",
       " 'data[row][Position_Title]',\n",
       " 'data[row][Avg_Processing_Time]',\n",
       " 'data[row][Industry]',\n",
       " 'data[row][Company_Size]',\n",
       " 'data[row][Working_Hours]',\n",
       " 'data[row][Dress_Code]',\n",
       " 'data[row][Work_Benefits]',\n",
       " 'data[row][Spoken_Language]',\n",
       " 'data[row][Salary_Range]',\n",
       " 'data[row][Experience_Needed]',\n",
       " 'data[row][General_Work_Location]',\n",
       " 'data[row][Company_Name]']"
      ]
     },
     "execution_count": 257,
     "metadata": {},
     "output_type": "execute_result"
    }
   ],
   "source": [
    "[\"data[row][\" + col + ']' for col in names.replace('self.','').split(',')]"
   ]
  },
  {
   "cell_type": "code",
   "execution_count": null,
   "metadata": {},
   "outputs": [],
   "source": [
    "                 agg_infomation_list = [self.links[:count],\n",
    "                                        self.Job_Description,\n",
    "                                        self.Company_Overview,\n",
    "                                        self.Why_Join_Us_Statement,\n",
    "                                        self.Work_Location,\n",
    "                                        self.Position_Title,\n",
    "                                        self.Avg_Processing_Time,\n",
    "                                        self.Industry,\n",
    "                                        self.Company_Size,\n",
    "                                        self.Working_Hours,\n",
    "                                        self.Dress_Code,\n",
    "                                        self.Work_Benefits,\n",
    "                                        self.Spoken_Language,\n",
    "                                        self.Salary_Range,\n",
    "                                        self.Experience_Needed,\n",
    "                                        self.General_Work_Location,\n",
    "                                        self.Company_Name]"
   ]
  },
  {
   "cell_type": "code",
   "execution_count": 261,
   "metadata": {},
   "outputs": [
    {
     "data": {
      "text/plain": [
       "5"
      ]
     },
     "execution_count": 261,
     "metadata": {},
     "output_type": "execute_result"
    }
   ],
   "source": [
    "np.random.randint(1,6)"
   ]
  },
  {
   "cell_type": "code",
   "execution_count": 262,
   "metadata": {},
   "outputs": [
    {
     "name": "stdout",
     "output_type": "stream",
     "text": [
      "12 Links grabbed... 34 seconds elapsed\n"
     ]
    }
   ],
   "source": [
    "print ('{} Links grabbed... {} seconds elapsed'.format(12, 34))"
   ]
  },
  {
   "cell_type": "code",
   "execution_count": 270,
   "metadata": {},
   "outputs": [],
   "source": [
    "import timeit\n",
    "\n",
    "start = timeit.Timer()"
   ]
  },
  {
   "cell_type": "code",
   "execution_count": 272,
   "metadata": {},
   "outputs": [],
   "source": [
    "end = timeit.Timer()"
   ]
  },
  {
   "cell_type": "code",
   "execution_count": 273,
   "metadata": {},
   "outputs": [
    {
     "ename": "TypeError",
     "evalue": "unsupported operand type(s) for -: 'Timer' and 'Timer'",
     "output_type": "error",
     "traceback": [
      "\u001b[1;31m---------------------------------------------------------------------------\u001b[0m",
      "\u001b[1;31mTypeError\u001b[0m                                 Traceback (most recent call last)",
      "\u001b[1;32m<ipython-input-273-1ec3a5c16950>\u001b[0m in \u001b[0;36m<module>\u001b[1;34m\u001b[0m\n\u001b[1;32m----> 1\u001b[1;33m \u001b[0mend\u001b[0m \u001b[1;33m-\u001b[0m \u001b[0mstart\u001b[0m\u001b[1;33m\u001b[0m\u001b[1;33m\u001b[0m\u001b[0m\n\u001b[0m",
      "\u001b[1;31mTypeError\u001b[0m: unsupported operand type(s) for -: 'Timer' and 'Timer'"
     ]
    }
   ],
   "source": [
    "end - start"
   ]
  },
  {
   "cell_type": "code",
   "execution_count": 275,
   "metadata": {},
   "outputs": [],
   "source": [
    "from timeit import default_timer as timer\n",
    "\n",
    "\n",
    "start = timer()"
   ]
  },
  {
   "cell_type": "code",
   "execution_count": 276,
   "metadata": {},
   "outputs": [
    {
     "data": {
      "text/plain": [
       "216.17201492035474"
      ]
     },
     "execution_count": 276,
     "metadata": {},
     "output_type": "execute_result"
    }
   ],
   "source": [
    "start"
   ]
  },
  {
   "cell_type": "code",
   "execution_count": 277,
   "metadata": {},
   "outputs": [
    {
     "data": {
      "text/plain": [
       "216.17201492035474"
      ]
     },
     "execution_count": 277,
     "metadata": {},
     "output_type": "execute_result"
    }
   ],
   "source": [
    "start"
   ]
  },
  {
   "cell_type": "code",
   "execution_count": 282,
   "metadata": {},
   "outputs": [
    {
     "data": {
      "text/plain": [
       "37.25394423371327"
      ]
     },
     "execution_count": 282,
     "metadata": {},
     "output_type": "execute_result"
    }
   ],
   "source": [
    "end = timer()\n",
    "\n",
    "end - start"
   ]
  },
  {
   "cell_type": "code",
   "execution_count": 279,
   "metadata": {},
   "outputs": [
    {
     "data": {
      "text/plain": [
       "239.05738530197578"
      ]
     },
     "execution_count": 279,
     "metadata": {},
     "output_type": "execute_result"
    }
   ],
   "source": [
    "end"
   ]
  },
  {
   "cell_type": "code",
   "execution_count": 284,
   "metadata": {},
   "outputs": [],
   "source": [
    "df = pd.DataFrame([1,2,3,4,5,6])"
   ]
  },
  {
   "cell_type": "code",
   "execution_count": 287,
   "metadata": {},
   "outputs": [
    {
     "data": {
      "text/plain": [
       "[array([1], dtype=int64),\n",
       " array([2], dtype=int64),\n",
       " array([3], dtype=int64),\n",
       " array([4], dtype=int64),\n",
       " array([5], dtype=int64),\n",
       " array([6], dtype=int64)]"
      ]
     },
     "execution_count": 287,
     "metadata": {},
     "output_type": "execute_result"
    }
   ],
   "source": [
    "list(df.values)"
   ]
  },
  {
   "cell_type": "code",
   "execution_count": null,
   "metadata": {},
   "outputs": [],
   "source": []
  }
 ],
 "metadata": {
  "kernelspec": {
   "display_name": "Python 3",
   "language": "python",
   "name": "python3"
  },
  "language_info": {
   "codemirror_mode": {
    "name": "ipython",
    "version": 3
   },
   "file_extension": ".py",
   "mimetype": "text/x-python",
   "name": "python",
   "nbconvert_exporter": "python",
   "pygments_lexer": "ipython3",
   "version": "3.6.7"
  }
 },
 "nbformat": 4,
 "nbformat_minor": 2
}
