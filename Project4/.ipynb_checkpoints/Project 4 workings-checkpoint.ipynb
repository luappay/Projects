{
 "cells": [
  {
   "cell_type": "code",
   "execution_count": 200,
   "metadata": {},
   "outputs": [],
   "source": [
    "import numpy as np\n",
    "import scipy.stats as stats\n",
    "import seaborn as sns\n",
    "import matplotlib.pyplot as plt\n",
    "import pandas as pd\n",
    "from IPython.display import HTML\n",
    "import pprint\n",
    "from sklearn.model_selection import train_test_split, KFold, cross_val_score, cross_val_predict\n",
    "from sklearn.linear_model import Lasso, ElasticNet, Ridge, LassoCV, ElasticNetCV, RidgeCV, LinearRegression, LogisticRegression, LogisticRegressionCV\n",
    "from sklearn.preprocessing import StandardScaler\n",
    "import statsmodels.formula.api as sm\n",
    "from sklearn.model_selection import GridSearchCV\n",
    "from sklearn.ensemble import RandomForestClassifier, BaggingClassifier\n",
    "from sklearn.neighbors import KNeighborsClassifier, KNeighborsRegressor\n",
    "from sklearn.metrics import confusion_matrix, classification_report, roc_curve, auc\n",
    "from sklearn.tree import DecisionTreeRegressor, DecisionTreeClassifier\n",
    "from sklearn import svm\n",
    "from sklearn.decomposition import PCA\n",
    "from sklearn import cluster\n",
    "from sklearn import metrics\n",
    "from sklearn.metrics import pairwise_distances\n",
    "from sklearn.cluster import KMeans\n",
    "from sklearn.metrics import silhouette_score\n",
    "from selenium import webdriver\n",
    "# import selenium\n",
    "import os\n",
    "import requests\n",
    "from bs4 import BeautifulSoup\n",
    "import json\n",
    "import time"
   ]
  },
  {
   "cell_type": "code",
   "execution_count": 201,
   "metadata": {},
   "outputs": [],
   "source": [
    "### Initiate driver for webscraping \n",
    "chromedriver = '.\\chromedriver'\n",
    "os.environ[\"webdriver.chrome.driver\"] = chromedriver\n"
   ]
  },
  {
   "cell_type": "code",
   "execution_count": 202,
   "metadata": {},
   "outputs": [],
   "source": [
    "### Create/initiate browser\n",
    "browser = webdriver.Chrome(executable_path='./chromedriver/chromedriver.exe')\n",
    "\n",
    "### Setup url to enter to\n",
    "url = 'https://www.jobstreet.com.sg/'\n",
    "\n",
    "### Enter page\n",
    "browser.get(url)\n",
    "\n",
    "### Login to Jobstreet\n",
    "username = 'paulyap.h@gmail.com'\n",
    "password = 'TESTing12345'\n",
    "\n",
    "### Login to Jobstreet \n",
    "search_job_button = browser.find_element_by_id('header-login-button')\n",
    "search_job_button.click()\n",
    "\n",
    "### Rest before interacting with the login bar\n",
    "time.sleep(2)\n",
    "\n",
    "### Enter username\n",
    "username_bar = browser.find_element_by_name('login_id')\n",
    "username_bar.clear()\n",
    "username_bar.send_keys(username)\n",
    "\n",
    "### Enter password\n",
    "pw_bar = browser.find_element_by_name('password')\n",
    "pw_bar.clear()\n",
    "pw_bar.send_keys(password)\n",
    "\n",
    "### Log in \n",
    "login_button = browser.find_element_by_name('btnSignIn')\n",
    "login_button.click()\n",
    "\n",
    "### Close irritating login button\n",
    "close_icon = browser.find_element_by_class_name('icon-close')\n",
    "close_icon.click()\n",
    "\n",
    "### Click 'Search Jobs'\n",
    "browser.find_element_by_id('header_job_link').click()\n",
    "\n"
   ]
  },
  {
   "cell_type": "code",
   "execution_count": 67,
   "metadata": {},
   "outputs": [],
   "source": [
    "browser.find_element_by_id('header_job_link').click()"
   ]
  },
  {
   "cell_type": "code",
   "execution_count": null,
   "metadata": {},
   "outputs": [],
   "source": []
  },
  {
   "cell_type": "code",
   "execution_count": 68,
   "metadata": {},
   "outputs": [],
   "source": [
    "### Grab page source from job search page\n",
    "html = browser.page_source\n",
    "\n",
    "### load it into beautifulsoup\n",
    "bs = BeautifulSoup(html)\n",
    "\n",
    "### Find all links to job listing \n",
    "links = []\n",
    "\n",
    "for link in bs.find_all('a', {'class':'position-title-link'}):\n",
    "    if 'Rank' in link['href']:\n",
    "        links += [link['href']]\n",
    "    else:\n",
    "        print('nada')"
   ]
  },
  {
   "cell_type": "code",
   "execution_count": 159,
   "metadata": {},
   "outputs": [],
   "source": [
    "browser.get('https://www.jobstreet.com.sg/en/job/seniorstaff-nurse-45k-office-hours55-days-workicu-or-ot-7011197?fr=J&searchRequestToken=86fa4634-83f8-444a-e7ee-a186801df408&sectionRank=3')\n",
    "html = browser.page_source"
   ]
  },
  {
   "cell_type": "code",
   "execution_count": 206,
   "metadata": {},
   "outputs": [],
   "source": [
    "def scrap(url):\n",
    "    \"\"\"\n",
    "        Takes in an url as a string\n",
    "        Scraps Job listing information from the page \n",
    "        Returns a dictionary of dictionary format information dump\n",
    "    \"\"\"\n",
    "    information = {}\n",
    "    \n",
    "    browser.get(url)\n",
    "    html = browser.page_source\n",
    "    \n",
    "    bs = BeautifulSoup(html)\n",
    "    \n",
    "    \n",
    "### Job Description\n",
    "    \n",
    "    try:\n",
    "        if len(bs.findAll('div', {'id' : 'job_description'})) > 0:\n",
    "            holding_lis = ''\n",
    "            \n",
    "            for info in bs.findAll('div', {'id' : 'job_description'}):\n",
    "                holding_lis += info.text\n",
    "            information['Job_Description'] = holding_lis\n",
    "            \n",
    "        else:\n",
    "            information['Job_Description'] = 'No Information'\n",
    "    \n",
    "    except:\n",
    "        information['Job_Description'] = 'Error'\n",
    "        \n",
    "### Company Overview       \n",
    "        \n",
    "    try:\n",
    "        if len(bs.findAll('div', {'id' : 'company_overview_all'})) > 0:\n",
    "            holding_lis = ''\n",
    "            \n",
    "            for info in bs.findAll('div', {'id' : 'company_overview_all'}):\n",
    "                holding_lis += info.text\n",
    "            information['Company_Overview'] = holding_lis\n",
    "            \n",
    "        else:\n",
    "            information['Company_Overview'] = 'No Information'\n",
    "    \n",
    "    except:\n",
    "        information['Company_Overview'] = 'Error'\n",
    "        \n",
    "        \n",
    "### Why Join Us Statement       \n",
    "        \n",
    "    try:\n",
    "        if len(bs.findAll('div', {'id' : 'why_join_us_all'})) > 0:\n",
    "            holding_lis = ''\n",
    "            \n",
    "            for info in bs.findAll('div', {'id' : 'why_join_us_all'}):\n",
    "                holding_lis += info.text\n",
    "            information['Why_Join_Us_Statement'] = holding_lis\n",
    "            \n",
    "        else:\n",
    "            information['Why_Join_Us_Statement'] = 'No Information'\n",
    "    \n",
    "    except:\n",
    "        information['Why_Join_Us_Statement'] = 'Error'\n",
    "        \n",
    "        \n",
    "### Work Location       \n",
    "        \n",
    "    try:\n",
    "        if len(bs.findAll('p', {'class' : 'add-detail-p'})) > 0:\n",
    "            holding_lis = ''\n",
    "            \n",
    "            for info in bs.findAll('p', {'class' : 'add-detail-p'}):\n",
    "                holding_lis += info.text\n",
    "            information['Work_Location'] = holding_lis\n",
    "            \n",
    "        else:\n",
    "            information['Work_Location'] = 'No Information'\n",
    "    \n",
    "    except:\n",
    "        information['Work_Location'] = 'Error'\n",
    "        \n",
    "        \n",
    "### Position Title       \n",
    "        \n",
    "    try:\n",
    "        if len(bs.findAll('h1', {'id' : 'position_title'})) > 0:\n",
    "            holding_lis = ''\n",
    "            \n",
    "            for info in bs.findAll('h1', {'id' : 'position_title'}):\n",
    "                holding_lis += info.text\n",
    "            information['Position_Title'] = holding_lis\n",
    "            \n",
    "        else:\n",
    "            information['Position_Title'] = 'No Information'\n",
    "    \n",
    "    except:\n",
    "        information['Position_Title'] = 'Error'\n",
    "        \n",
    "\n",
    "### Average Processing Time       \n",
    "        \n",
    "    try:\n",
    "        if len(bs.findAll('p', {'id' : 'fast_average_processing_time'})) > 0:\n",
    "            holding_lis = ''\n",
    "            \n",
    "            for info in bs.findAll('p', {'id' : 'fast_average_processing_time'}):\n",
    "                holding_lis += info.text.replace('\\n','').replace('\\t','')\n",
    "            information['Avg_Processing_Time'] = holding_lis\n",
    "            \n",
    "        else:\n",
    "            information['Avg_Processing_Time'] = 'No Information'\n",
    "    \n",
    "    except:\n",
    "        information['Avg_Processing_Time'] = 'Error'    \n",
    "        \n",
    "        \n",
    "### Industry     \n",
    "        \n",
    "    try:\n",
    "        if len(bs.findAll('p', {'id' : 'company_industry'})) > 0:\n",
    "            holding_lis = ''\n",
    "            \n",
    "            for info in bs.findAll('p', {'id' : 'company_industry'}):\n",
    "                holding_lis += info.text\n",
    "            information['Industry'] = holding_lis\n",
    "            \n",
    "        else:\n",
    "            information['Industry'] = 'No Information'\n",
    "    \n",
    "    except:\n",
    "        information['Industry'] = 'Error'    \n",
    "        \n",
    "\n",
    "### Company Size     \n",
    "        \n",
    "    try:\n",
    "        if len(bs.findAll('p', {'id' : 'company_size'})) > 0:\n",
    "            holding_lis = ''\n",
    "            \n",
    "            for info in bs.findAll('p', {'id' : 'company_size'}):\n",
    "                holding_lis += info.text.replace('\\n','')\n",
    "            information['Company_Size'] = holding_lis\n",
    "            \n",
    "        else:\n",
    "            information['Company_Size'] = 'No Information'\n",
    "    \n",
    "    except:\n",
    "        information['Company_Size'] = 'Error'    \n",
    "        \n",
    "        \n",
    "### Working Hours     \n",
    "        \n",
    "    try:\n",
    "        if len(bs.findAll('p', {'id' : 'work_enviroment_working_hours'})) > 0:\n",
    "            holding_lis = ''\n",
    "            \n",
    "            for info in bs.findAll('p', {'id' : 'work_enviroment_working_hours'}):\n",
    "                holding_lis += info.text.replace('\\n','')\n",
    "            information['Working_Hours'] = holding_lis\n",
    "            \n",
    "        else:\n",
    "            information['Working_Hours'] = 'No Information'\n",
    "    \n",
    "    except:\n",
    "        information['Working_Hours'] = 'Error'   \n",
    "        \n",
    "        \n",
    "### Dress Code     \n",
    "        \n",
    "    try:\n",
    "        if len(bs.findAll('p', {'id' : 'work_enviroment_dress_code'})) > 0:\n",
    "            holding_lis = ''\n",
    "            \n",
    "            for info in bs.findAll('p', {'id' : 'work_enviroment_dress_code'}):\n",
    "                holding_lis += info.text.replace('\\n','')\n",
    "            information['Dress_Code'] = holding_lis\n",
    "            \n",
    "        else:\n",
    "            information['Dress_Code'] = 'No Information'\n",
    "    \n",
    "    except:\n",
    "        information['Dress_Code'] = 'Error'   \n",
    "        \n",
    "        \n",
    "### Work Benefits     \n",
    "        \n",
    "    try:\n",
    "        if len(bs.findAll('p', {'id' : 'work_enviroment_benefits'})) > 0:\n",
    "            holding_lis = ''\n",
    "            \n",
    "            for info in bs.findAll('p', {'id' : 'work_enviroment_benefits'}):\n",
    "                holding_lis += info.text.replace('\\n','')\n",
    "            information['Work_Benefits'] = holding_lis\n",
    "            \n",
    "        else:\n",
    "            information['Work_Benefits'] = 'No Information'\n",
    "    \n",
    "    except:\n",
    "        information['Work_Benefits'] = 'Error'\n",
    "        \n",
    "        \n",
    "        \n",
    "### Spoken Language     \n",
    "        \n",
    "    try:\n",
    "        if len(bs.findAll('p', {'id' : 'work_enviroment_spoken_language'})) > 0:\n",
    "            holding_lis = ''\n",
    "            \n",
    "            for info in bs.findAll('p', {'id' : 'work_enviroment_spoken_language'}):\n",
    "                holding_lis += info.text.replace('\\n','')\n",
    "            information['Spoken_Language'] = holding_lis\n",
    "            \n",
    "        else:\n",
    "            information['Spoken_Language'] = 'No Information'\n",
    "    \n",
    "    except:\n",
    "        information['Spoken_Language'] = 'Error'\n",
    "        \n",
    "        \n",
    "### Salary Range     \n",
    "        \n",
    "    try:\n",
    "        holding_lis = browser.find_element_by_xpath('//*[@id=\"salary_range\"]').text\n",
    "        information['Salary_Range'] = holding_lis\n",
    "    \n",
    "    except:\n",
    "        information['Salary_Range'] = 'Error'\n",
    "\n",
    "        \n",
    "\n",
    "### Experience Needed / Required     \n",
    "        \n",
    "    try:\n",
    "        holding_lis = browser.find_element_by_xpath('//*[@id=\"years_of_experience\"]').text\n",
    "        information['Experience_Needed'] = holding_lis\n",
    "    \n",
    "    except:\n",
    "        information['Experience_Needed'] = 'Error'\n",
    "        \n",
    "        \n",
    "        \n",
    "### General Work Location     \n",
    "        \n",
    "    try:\n",
    "        holding_lis = browser.find_element_by_xpath('//*[@id=\"single_work_location\"]').text\n",
    "        information['General_Work_Location'] = holding_lis\n",
    "    \n",
    "    except:\n",
    "        information['General_Work_Location'] = 'Error'\n",
    "        \n",
    "        \n",
    "### Company Name\n",
    "        \n",
    "    try:\n",
    "        holding_lis = browser.find_element_by_xpath('//*[@id=\"company_name\"]/a').text\n",
    "        information['Company_Name'] = holding_lis\n",
    "    \n",
    "    except:\n",
    "        information['Company_Name'] = 'Error'\n",
    "        \n",
    "        \n",
    "    return information "
   ]
  },
  {
   "cell_type": "code",
   "execution_count": 207,
   "metadata": {},
   "outputs": [],
   "source": [
    "out = scrap('https://www.jobstreet.com.sg/en/job/seniorstaff-nurse-45k-office-hours55-days-workicu-or-ot-7011197?fr=J&searchRequestToken=86fa4634-83f8-444a-e7ee-a186801df408&sectionRank=3')"
   ]
  },
  {
   "cell_type": "code",
   "execution_count": 208,
   "metadata": {
    "scrolled": true
   },
   "outputs": [
    {
     "name": "stdout",
     "output_type": "stream",
     "text": [
      "{'Avg_Processing_Time': 'More Than 2 Weeks',\n",
      " 'Company_Name': 'Capita Pte Ltd - Healthcare',\n",
      " 'Company_Overview': '\\n'\n",
      "                     'Founded in 2007 in Singapore, Capita Pte Ltd is a '\n",
      "                     'premium recruitment expert and staffing provider for '\n",
      "                     'international companies in Singapore and across Asia.\\xa0'\n",
      "                     'Encompassing local and international placements, '\n",
      "                     'contract and temporary staffing, outplacement as well as '\n",
      "                     'payroll services across all industry sectors, Capita’s '\n",
      "                     'highly personalised service ensures that its clients '\n",
      "                     'find the right talent to meet their human resource '\n",
      "                     'needs.\\xa0Capita’s service offering is split into '\n",
      "                     'corporate and specialised divisions. While the corporate '\n",
      "                     'division comprises the business support and outsourcing '\n",
      "                     'practices that focus on permanent, contract and '\n",
      "                     'temporary positions, the specialised division has a '\n",
      "                     'focus on the engineering, banking and finance as well as '\n",
      "                     'technology industries. With more companies requiring '\n",
      "                     'candidates for specialist functions as well as talent '\n",
      "                     'with generalist capabilities in an increasingly '\n",
      "                     'competitive business environment, these divisions ensure '\n",
      "                     'that clients work with industry-focused consultants with '\n",
      "                     'specific expertise to match their talent management '\n",
      "                     'needs.In 2012, Capita expanded its footprint in Asia, '\n",
      "                     'opening an office in Kuala Lumpur, Malaysia to better '\n",
      "                     'serve regional clients.\\xa0Capita\\xa0 has been '\n",
      "                     'recognised as one of the preferred HR Vendors of the '\n",
      "                     'Year for six consecutive years since 2010. In addition, '\n",
      "                     'we have also been honoured with the Enterprise 50 award '\n",
      "                     'in 2012 as well as the Recruitment Agency of the Year '\n",
      "                     'Silver Award (Asia Recruitment Awards, 2015).\\xa0More '\n",
      "                     'information about Capita Pte Ltd is available at '\n",
      "                     'www.capitasingapore.com and '\n",
      "                     'www.facebook.com/capitasingapore\\xa0<<<By submitting '\n",
      "                     'your curriculum vitae or personal data to us in '\n",
      "                     'connection with your job application, you are deemed to '\n",
      "                     'have read and agreed to the terms of our Privacy Policy, '\n",
      "                     'and consented to the collection, use and disclosure of '\n",
      "                     'your personal data by us and our affiliates, in '\n",
      "                     'accordance with our Privacy Policy.\\xa0Please visit '\n",
      "                     'www.capitagrp.com for a copy of our Privacy Policy. If '\n",
      "                     'you wish to withdraw your consent, please drop us an '\n",
      "                     'email at \"dataprotection@persolkelly.com\" to let us '\n",
      "                     'know. (NOTE: any resumes or job applications sent to '\n",
      "                     'this data protection mailbox will NOT be attended to as '\n",
      "                     'it is solely for the purposes of personal data '\n",
      "                     'protection related feedback.)\\xa0\\n',\n",
      " 'Company_Size': '51 - 200 Employees',\n",
      " 'Dress_Code': 'No Information',\n",
      " 'Experience_Needed': 'Min 1 year (Non-Executive)',\n",
      " 'General_Work_Location': 'Singapore - Central',\n",
      " 'Industry': 'Human Resources Management/Consulting',\n",
      " 'Job_Description': ' Responsible• Assist doctor in procedure or cardiac '\n",
      "                    'operation, able to do scrub• Front counter duties• '\n",
      "                    \"Dispense medication• Communicate and discuss patients' \"\n",
      "                    'progress and response to treatment with doctors, nursing '\n",
      "                    'and allied health colleagues.• Follow-up to ensure '\n",
      "                    'continuity of patient care and treatment '\n",
      "                    'plans.Requirement• Diploma/Degree in Nursing• SNB '\n",
      "                    'Registered\\xa0Interested candidates who wish to apply for '\n",
      "                    'the advertised position, please email us an updated copy '\n",
      "                    'of your resume (Attn: ESL) or contact our office at +65 '\n",
      "                    '6709 3569 for a confidential discussion.\\xa0We regret to '\n",
      "                    'inform that only shortlisted candidates will be '\n",
      "                    'notified.\\xa0Job Code: ESLEmail Address: '\n",
      "                    'Healthcare@capitasingapore.comEA License No.: '\n",
      "                    '08C2893\\xa0 ',\n",
      " 'Position_Title': 'Senior/Staff Nurse $4.5k (Office hours/5.5 days work/ICU '\n",
      "                   'or OT)',\n",
      " 'Salary_Range': 'SGD 2,500 - SGD 4,500',\n",
      " 'Spoken_Language': 'No Information',\n",
      " 'Why_Join_Us_Statement': 'No Information',\n",
      " 'Work_Benefits': 'No Information',\n",
      " 'Work_Location': '8 Marina View #11-01 Asia Square Tower 1 Singapore 018960',\n",
      " 'Working_Hours': 'No Information'}\n"
     ]
    }
   ],
   "source": [
    "pprint.pprint(out)"
   ]
  },
  {
   "cell_type": "code",
   "execution_count": 160,
   "metadata": {},
   "outputs": [],
   "source": [
    "bs1 = BeautifulSoup(html)\n",
    "    "
   ]
  },
  {
   "cell_type": "code",
   "execution_count": 195,
   "metadata": {},
   "outputs": [
    {
     "name": "stdout",
     "output_type": "stream",
     "text": [
      " Responsible• Assist doctor in procedure or cardiac operation, able to do scrub• Front counter duties• Dispense medication• Communicate and discuss patients' progress and response to treatment with doctors, nursing and allied health colleagues.• Follow-up to ensure continuity of patient care and treatment plans.Requirement• Diploma/Degree in Nursing• SNB Registered Interested candidates who wish to apply for the advertised position, please email us an updated copy of your resume (Attn: ESL) or contact our office at +65 6709 3569 for a confidential discussion. We regret to inform that only shortlisted candidates will be notified. Job Code: ESLEmail Address: Healthcare@capitasingapore.comEA License No.: 08C2893  \n"
     ]
    },
    {
     "data": {
      "text/plain": [
       "[\" Responsible• Assist doctor in procedure or cardiac operation, able to do scrub• Front counter duties• Dispense medication• Communicate and discuss patients' progress and response to treatment with doctors, nursing and allied health colleagues.• Follow-up to ensure continuity of patient care and treatment plans.Requirement• Diploma/Degree in Nursing• SNB Registered\\xa0Interested candidates who wish to apply for the advertised position, please email us an updated copy of your resume (Attn: ESL) or contact our office at +65 6709 3569 for a confidential discussion.\\xa0We regret to inform that only shortlisted candidates will be notified.\\xa0Job Code: ESLEmail Address: Healthcare@capitasingapore.comEA License No.: 08C2893\\xa0 \"]"
      ]
     },
     "execution_count": 195,
     "metadata": {},
     "output_type": "execute_result"
    }
   ],
   "source": [
    "### JD\n",
    "lis = []\n",
    "for n in bs1.findAll('div', {'id' : 'job_description'}):\n",
    "    lis += [n.text]\n",
    "    print(n.text)\n",
    "lis"
   ]
  },
  {
   "cell_type": "code",
   "execution_count": null,
   "metadata": {},
   "outputs": [],
   "source": []
  },
  {
   "cell_type": "code",
   "execution_count": 162,
   "metadata": {},
   "outputs": [
    {
     "name": "stdout",
     "output_type": "stream",
     "text": [
      "\n",
      "Founded in 2007 in Singapore, Capita Pte Ltd is a premium recruitment expert and staffing provider for international companies in Singapore and across Asia. Encompassing local and international placements, contract and temporary staffing, outplacement as well as payroll services across all industry sectors, Capita’s highly personalised service ensures that its clients find the right talent to meet their human resource needs. Capita’s service offering is split into corporate and specialised divisions. While the corporate division comprises the business support and outsourcing practices that focus on permanent, contract and temporary positions, the specialised division has a focus on the engineering, banking and finance as well as technology industries. With more companies requiring candidates for specialist functions as well as talent with generalist capabilities in an increasingly competitive business environment, these divisions ensure that clients work with industry-focused consultants with specific expertise to match their talent management needs.In 2012, Capita expanded its footprint in Asia, opening an office in Kuala Lumpur, Malaysia to better serve regional clients. Capita  has been recognised as one of the preferred HR Vendors of the Year for six consecutive years since 2010. In addition, we have also been honoured with the Enterprise 50 award in 2012 as well as the Recruitment Agency of the Year Silver Award (Asia Recruitment Awards, 2015). More information about Capita Pte Ltd is available at www.capitasingapore.com and www.facebook.com/capitasingapore <<<By submitting your curriculum vitae or personal data to us in connection with your job application, you are deemed to have read and agreed to the terms of our Privacy Policy, and consented to the collection, use and disclosure of your personal data by us and our affiliates, in accordance with our Privacy Policy. Please visit www.capitagrp.com for a copy of our Privacy Policy. If you wish to withdraw your consent, please drop us an email at \"dataprotection@persolkelly.com\" to let us know. (NOTE: any resumes or job applications sent to this data protection mailbox will NOT be attended to as it is solely for the purposes of personal data protection related feedback.) \n",
      "\n"
     ]
    }
   ],
   "source": [
    "### Company overview\n",
    "for n in bs1.findAll('div', {'id' : 'company_overview_all'}):\n",
    "    print(n.text)"
   ]
  },
  {
   "cell_type": "code",
   "execution_count": 189,
   "metadata": {},
   "outputs": [],
   "source": [
    "### Why Join Us?\n",
    "for n in bs1.findAll('div', {'id' : 'why_join_us_all'}):\n",
    "    print(n.text)"
   ]
  },
  {
   "cell_type": "code",
   "execution_count": 188,
   "metadata": {},
   "outputs": [
    {
     "name": "stdout",
     "output_type": "stream",
     "text": [
      "8 Marina View #11-01 Asia Square Tower 1 Singapore 018960\n"
     ]
    }
   ],
   "source": [
    "### Work Location\n",
    "for n in bs1.findAll('p', {'class' : 'add-detail-p'}):\n",
    "    print(n.text)"
   ]
  },
  {
   "cell_type": "code",
   "execution_count": 163,
   "metadata": {},
   "outputs": [
    {
     "name": "stdout",
     "output_type": "stream",
     "text": [
      "RECRUITMENT FIRM SNAPSHOT            Average Processing Time More Than 2 WeeksEA No.08C2893IndustryHuman Resources Management/ConsultingWebsitehttp://www.capitasingapore.com/Facebook Fan Pagehttps://www.facebook.com/capitasingaporeCompany Size51 - 200 Employees\n"
     ]
    }
   ],
   "source": [
    "lis = [] \n",
    "for n in bs1.findAll('div', {'class' : 'panel-body'}):\n",
    "    new_text = n.text.replace('\\n','').replace('\\t','')\n",
    "    lis += [new_text]\n",
    "print (lis[3])"
   ]
  },
  {
   "cell_type": "code",
   "execution_count": 97,
   "metadata": {},
   "outputs": [
    {
     "name": "stdout",
     "output_type": "stream",
     "text": [
      "Senior/Staff Nurse $4.5k (Office hours/5.5 days work/ICU or OT)\n"
     ]
    }
   ],
   "source": [
    "### Title\n",
    "for n in bs1.findAll('h1', {'id' : 'position_title'}):\n",
    "    print(n.text)"
   ]
  },
  {
   "cell_type": "code",
   "execution_count": 165,
   "metadata": {},
   "outputs": [
    {
     "name": "stdout",
     "output_type": "stream",
     "text": [
      "\t\t\t\t\t\t\t\t\t\tMore Than 2 Weeks\t\t\t\t\t\t\t\t\t\t\t\t\t\t\n"
     ]
    }
   ],
   "source": [
    "### Average Processing Time\n",
    "for n in bs1.findAll('p', {'id' : 'fast_average_processing_time'}):\n",
    "    print(n.text.replace('\\n',''))"
   ]
  },
  {
   "cell_type": "code",
   "execution_count": 166,
   "metadata": {},
   "outputs": [
    {
     "name": "stdout",
     "output_type": "stream",
     "text": [
      "Human Resources Management/Consulting\n"
     ]
    }
   ],
   "source": [
    "### Industry\n",
    "for n in bs1.findAll('p', {'id' : 'company_industry'}):\n",
    "    print(n.text.replace('\\n',''))"
   ]
  },
  {
   "cell_type": "code",
   "execution_count": 167,
   "metadata": {},
   "outputs": [
    {
     "name": "stdout",
     "output_type": "stream",
     "text": [
      "51 - 200 Employees\n"
     ]
    }
   ],
   "source": [
    "### Company Size\n",
    "for n in bs1.findAll('p', {'id' : 'company_size'}):\n",
    "    print(n.text.replace('\\n',''))"
   ]
  },
  {
   "cell_type": "code",
   "execution_count": 170,
   "metadata": {},
   "outputs": [],
   "source": [
    "### Working Hours\n",
    "for n in bs1.findAll('p', {'id' : 'work_enviroment_working_hours'}):\n",
    "    print(n.text.replace('\\n',''))"
   ]
  },
  {
   "cell_type": "code",
   "execution_count": 169,
   "metadata": {},
   "outputs": [],
   "source": [
    "### Dress Code\n",
    "for n in bs1.findAll('p', {'id' : 'work_enviroment_dress_code'}):\n",
    "    print(n.text.replace('\\n',''))"
   ]
  },
  {
   "cell_type": "code",
   "execution_count": 171,
   "metadata": {},
   "outputs": [],
   "source": [
    "### Benefits\n",
    "for n in bs1.findAll('p', {'id' : 'work_enviroment_benefits'}):\n",
    "    print(n.text.replace('\\n',''))"
   ]
  },
  {
   "cell_type": "code",
   "execution_count": 187,
   "metadata": {},
   "outputs": [],
   "source": [
    "### Spoken Language\n",
    "for n in bs1.findAll('p', {'id' : 'work_enviroment_spoken_language'}): \n",
    "    print(n.text.replace('\\n',''))\n"
   ]
  },
  {
   "cell_type": "code",
   "execution_count": null,
   "metadata": {},
   "outputs": [],
   "source": []
  },
  {
   "cell_type": "code",
   "execution_count": 107,
   "metadata": {},
   "outputs": [
    {
     "data": {
      "text/plain": [
       "'SGD 2,500 - SGD 4,500'"
      ]
     },
     "execution_count": 107,
     "metadata": {},
     "output_type": "execute_result"
    }
   ],
   "source": [
    "### Salary range\n",
    "browser.find_element_by_xpath('//*[@id=\"salary_range\"]').text"
   ]
  },
  {
   "cell_type": "code",
   "execution_count": 108,
   "metadata": {},
   "outputs": [
    {
     "data": {
      "text/plain": [
       "'Min 1 year (Non-Executive)'"
      ]
     },
     "execution_count": 108,
     "metadata": {},
     "output_type": "execute_result"
    }
   ],
   "source": [
    "### Experience needed\n",
    "browser.find_element_by_xpath('//*[@id=\"years_of_experience\"]').text"
   ]
  },
  {
   "cell_type": "code",
   "execution_count": 109,
   "metadata": {},
   "outputs": [
    {
     "data": {
      "text/plain": [
       "'Singapore - Central'"
      ]
     },
     "execution_count": 109,
     "metadata": {},
     "output_type": "execute_result"
    }
   ],
   "source": [
    "### Location\n",
    "browser.find_element_by_xpath('//*[@id=\"single_work_location\"]').text"
   ]
  },
  {
   "cell_type": "code",
   "execution_count": 112,
   "metadata": {},
   "outputs": [
    {
     "data": {
      "text/plain": [
       "'Capita Pte Ltd - Healthcare'"
      ]
     },
     "execution_count": 112,
     "metadata": {},
     "output_type": "execute_result"
    }
   ],
   "source": [
    "### company name\n",
    "browser.find_element_by_xpath('//*[@id=\"company_name\"]/a').text"
   ]
  },
  {
   "cell_type": "code",
   "execution_count": null,
   "metadata": {},
   "outputs": [],
   "source": [
    "### \n"
   ]
  },
  {
   "cell_type": "code",
   "execution_count": null,
   "metadata": {},
   "outputs": [],
   "source": []
  },
  {
   "cell_type": "code",
   "execution_count": 77,
   "metadata": {},
   "outputs": [
    {
     "name": "stdout",
     "output_type": "stream",
     "text": [
      "https://www.jobstreet.com.sg/en/job/assistant-managermanager-customer-service-7011168?fr=J&searchRequestToken=954bf32d-02f9-4d62-9248-bf5e5c5d5b78&sectionRank=1\n",
      "nada\n",
      "https://www.jobstreet.com.sg/en/job/events-executive-7011164?fr=J&searchRequestToken=954bf32d-02f9-4d62-9248-bf5e5c5d5b78&sectionRank=2\n",
      "https://www.jobstreet.com.sg/en/job/algorithms-engineer-7011163?fr=J&searchRequestToken=954bf32d-02f9-4d62-9248-bf5e5c5d5b78&sectionRank=3\n",
      "https://www.jobstreet.com.sg/en/job/visustore-specialist-1-year-contract-6996187?fr=J&searchRequestToken=954bf32d-02f9-4d62-9248-bf5e5c5d5b78&sectionRank=4\n",
      "https://www.jobstreet.com.sg/en/job/purchasing-executive-good-exposure-fb-6995949?fr=J&searchRequestToken=954bf32d-02f9-4d62-9248-bf5e5c5d5b78&sectionRank=5\n",
      "https://www.jobstreet.com.sg/en/job/ship-broker-7011151?fr=J&searchRequestToken=954bf32d-02f9-4d62-9248-bf5e5c5d5b78&sectionRank=6\n",
      "https://www.jobstreet.com.sg/en/job/sales-executive-7011159?fr=J&searchRequestToken=954bf32d-02f9-4d62-9248-bf5e5c5d5b78&sectionRank=7\n",
      "https://www.jobstreet.com.sg/en/job/senior-executive-premier-segment-support-7011158?fr=J&searchRequestToken=954bf32d-02f9-4d62-9248-bf5e5c5d5b78&sectionRank=8\n",
      "https://www.jobstreet.com.sg/en/job/senior-executivemanager-station-support-operations-development-6939864?fr=J&searchRequestToken=954bf32d-02f9-4d62-9248-bf5e5c5d5b78&sectionRank=9\n",
      "https://www.jobstreet.com.sg/en/job/nve-systems-media-engineer-7011162?fr=J&searchRequestToken=954bf32d-02f9-4d62-9248-bf5e5c5d5b78&sectionRank=10\n",
      "https://www.jobstreet.com.sg/en/job/senior-enrolled-nurse-enrolled-nurse-cancer-centre-7011160?fr=J&searchRequestToken=954bf32d-02f9-4d62-9248-bf5e5c5d5b78&sectionRank=11\n",
      "https://www.jobstreet.com.sg/en/job/sales-engineer-for-electronic-and-plastic-moulding-industry-7011157?fr=J&searchRequestToken=954bf32d-02f9-4d62-9248-bf5e5c5d5b78&sectionRank=12\n",
      "https://www.jobstreet.com.sg/en/job/senior-executivemanager-station-support-operations-development-7011156?fr=J&searchRequestToken=954bf32d-02f9-4d62-9248-bf5e5c5d5b78&sectionRank=13\n",
      "https://www.jobstreet.com.sg/en/job/service-technician-liftescalator-x-10-up-3000-incentives-7011155?fr=J&searchRequestToken=954bf32d-02f9-4d62-9248-bf5e5c5d5b78&sectionRank=14\n",
      "https://www.jobstreet.com.sg/en/job/technician-6996621?fr=J&searchRequestToken=954bf32d-02f9-4d62-9248-bf5e5c5d5b78&sectionRank=15\n",
      "https://www.jobstreet.com.sg/en/job/solution-architect-sgx-telecommunications-we-7011153?fr=J&searchRequestToken=954bf32d-02f9-4d62-9248-bf5e5c5d5b78&sectionRank=16\n",
      "https://www.jobstreet.com.sg/en/job/test-equipment-engineer-7011152?fr=J&searchRequestToken=954bf32d-02f9-4d62-9248-bf5e5c5d5b78&sectionRank=17\n",
      "https://www.jobstreet.com.sg/en/job/assistant-manager-means-testing-6994472?fr=J&searchRequestToken=954bf32d-02f9-4d62-9248-bf5e5c5d5b78&sectionRank=18\n",
      "https://www.jobstreet.com.sg/en/job/sales-engineer-rdelectronicssensorsredhill-7011150?fr=J&searchRequestToken=954bf32d-02f9-4d62-9248-bf5e5c5d5b78&sectionRank=19\n",
      "https://www.jobstreet.com.sg/en/job/lew-licensed-electrical-worker-lta-projects-7011149?fr=J&searchRequestToken=954bf32d-02f9-4d62-9248-bf5e5c5d5b78&sectionRank=20\n"
     ]
    }
   ],
   "source": []
  },
  {
   "cell_type": "code",
   "execution_count": null,
   "metadata": {},
   "outputs": [],
   "source": []
  }
 ],
 "metadata": {
  "kernelspec": {
   "display_name": "Python 3",
   "language": "python",
   "name": "python3"
  },
  "language_info": {
   "codemirror_mode": {
    "name": "ipython",
    "version": 3
   },
   "file_extension": ".py",
   "mimetype": "text/x-python",
   "name": "python",
   "nbconvert_exporter": "python",
   "pygments_lexer": "ipython3",
   "version": "3.6.7"
  }
 },
 "nbformat": 4,
 "nbformat_minor": 2
}
